{
 "cells": [
  {
   "cell_type": "markdown",
   "metadata": {
    "slideshow": {
     "slide_type": "skip"
    }
   },
   "source": [
    "## Multiple Inheritance Relationship"
   ]
  },
  {
   "cell_type": "markdown",
   "metadata": {
    "slideshow": {
     "slide_type": "slide"
    }
   },
   "source": [
    "* High level overview to what we are going to implement"
   ]
  },
  {
   "cell_type": "code",
   "execution_count": null,
   "metadata": {},
   "outputs": [],
   "source": [
    "class Time:\n",
    "    pass\n",
    "\n",
    "class Date:\n",
    "    pass\n",
    "\n",
    "class Clock(Time, Date):\n",
    "    pass"
   ]
  },
  {
   "cell_type": "markdown",
   "metadata": {
    "slideshow": {
     "slide_type": "slide"
    }
   },
   "source": [
    "* Let us build the class Time"
   ]
  },
  {
   "cell_type": "code",
   "execution_count": 3,
   "metadata": {},
   "outputs": [
    {
     "name": "stdout",
     "output_type": "stream",
     "text": [
      "12:30:31\n"
     ]
    }
   ],
   "source": [
    "class Time:\n",
    "    def __init__(self, hours, minutes, seconds):\n",
    "        \"\"\"\n",
    "        The parameters hours, minutes and seconds have to be \n",
    "        integers and must satisfy the following conditions:\n",
    "            0 <= h < 24\n",
    "            0 <= m < 60\n",
    "            0 <= s < 60\n",
    "        \"\"\"\n",
    "        if type(hours) == int and 0 <= hours and hours < 24:\n",
    "            self.hours = hours\n",
    "        else:\n",
    "            raise Exception(\"Hours have to be an integer between 0 and 23 !\")\n",
    "        \n",
    "        if type(minutes) == int and 0 <= minutes and minutes < 60:\n",
    "            self.minutes = minutes\n",
    "        else:\n",
    "            raise Exception(\"Minutes have to be an integer between 0 and 59 !\")\n",
    "        \n",
    "        if type(seconds) == int and 0 <= seconds and seconds < 60:\n",
    "            self.seconds = seconds\n",
    "        else:\n",
    "            raise Exception(\"Seconds have to be an integer 0 and 59 !\")\n",
    "        \n",
    "    def __str__(self):\n",
    "        return f'{self.hours}:{self.minutes}:{self.seconds}'\n",
    "    \n",
    "    def increase_one_second(self):\n",
    "        self.seconds += 1\n",
    "        \n",
    "        if self.seconds % 60 == 0:\n",
    "            self.seconds = 0\n",
    "            self.minutes += 1\n",
    "        \n",
    "        if self.minutes % 60 == 0:\n",
    "            self.minutes = 0\n",
    "            self.hours += 1\n",
    "        \n",
    "        if self.hours % 24 == 0:\n",
    "            self.hours = 0\n",
    "        \n",
    "    \n",
    "tim = Time(12, 30, 30)\n",
    "tim.increase_one_second()\n",
    "print(tim)"
   ]
  },
  {
   "cell_type": "markdown",
   "metadata": {
    "slideshow": {
     "slide_type": "fragment"
    }
   },
   "source": [
    "* Let us build the class Date"
   ]
  },
  {
   "cell_type": "code",
   "execution_count": 4,
   "metadata": {},
   "outputs": [
    {
     "name": "stdout",
     "output_type": "stream",
     "text": [
      "13/4/2021\n"
     ]
    }
   ],
   "source": [
    "class Date:\n",
    "    def __init__(self, year, month, day):\n",
    "        \"\"\"\n",
    "        day, month, year have to be integer values and year has to be \n",
    "        a four digit year number\n",
    "        \"\"\"\n",
    "        if type(year)==int:\n",
    "            self.year = year\n",
    "            \n",
    "        else:\n",
    "            raise Exception(\"year has to be an integer\")\n",
    "        \n",
    "        if type(month) == int and 1 <= month and month < 13:\n",
    "            self.month = month\n",
    "        else:\n",
    "            raise Exception(\"month has to be an integer between 1 and 12 !\")\n",
    "        \n",
    "        if type(day) == int and 1 <= day and day < 32:\n",
    "            self.day = day\n",
    "        else:\n",
    "            raise Exception(\"day has to be an integer between 1 and 31 !\")\n",
    "    \n",
    "    def increase_one_day(self):\n",
    "        \"\"\"\n",
    "        days in months in general\n",
    "        (31, 28, 31, 30, 31, 30, 31, 31, 30, 31, 30, 31)\n",
    "        \"\"\"\n",
    "        months_with_30_days = [4, 6, 9, 11]                    \n",
    "        self.day += 1\n",
    "        \n",
    "        if self.month == 2 and self.day % 29 == 0 or \\\n",
    "           self.month in months_with_30_days and self.day % 31 == 0 or \\\n",
    "           self.day % 32 == 0:\n",
    "            \n",
    "            self.day = 1\n",
    "            self.month += 1\n",
    "            \n",
    "            if self.month > 12:\n",
    "                self.month = 1\n",
    "                self.year += 1\n",
    "        \n",
    "    def __str__(self):\n",
    "        return \"{}/{}/{}\".format(self.day, self.month, self.year)\n",
    "\n",
    "date = Date(2021, 4, 13)\n",
    "print(date)"
   ]
  },
  {
   "cell_type": "markdown",
   "metadata": {
    "slideshow": {
     "slide_type": "fragment"
    }
   },
   "source": [
    "* Let us build the class Clock"
   ]
  },
  {
   "cell_type": "code",
   "execution_count": 8,
   "metadata": {},
   "outputs": [
    {
     "name": "stdout",
     "output_type": "stream",
     "text": [
      "12/4/2021 , 12:36:30\n",
      "\n",
      "12/4/2021 , 12:36:31\n",
      "\n"
     ]
    }
   ],
   "source": [
    "class Clock(Time, Date):\n",
    "    def __init__(self, day, month, year, hours, minutes, seconds):\n",
    "        Date.__init__(self, year, month, day)\n",
    "        Time.__init__(self, hours, minutes, seconds)\n",
    "    \n",
    "    def tick(self):\n",
    "        self.increase_one_second()\n",
    "        if self.hours == 0:\n",
    "            self.increase_one_day()\n",
    "    \n",
    "    def __str__(self):\n",
    "        return Date.__str__(self) + ' , ' + Time.__str__(self)\n",
    "\n",
    "tim = Clock(12, 4, 2021, 12, 36, 30)\n",
    "# tim = Clock(2003, 2, 27, 23, 59, 59)\n",
    "print(tim)\n",
    "print()\n",
    "tim.tick()\n",
    "print(tim)\n",
    "print()        "
   ]
  },
  {
   "cell_type": "markdown",
   "metadata": {
    "slideshow": {
     "slide_type": "skip"
    }
   },
   "source": [
    "### Thank You"
   ]
  }
 ],
 "metadata": {
  "kernelspec": {
   "display_name": "Python 3",
   "language": "python",
   "name": "python3"
  },
  "language_info": {
   "codemirror_mode": {
    "name": "ipython",
    "version": 3
   },
   "file_extension": ".py",
   "mimetype": "text/x-python",
   "name": "python",
   "nbconvert_exporter": "python",
   "pygments_lexer": "ipython3",
   "version": "3.7.1"
  }
 },
 "nbformat": 4,
 "nbformat_minor": 4
}
