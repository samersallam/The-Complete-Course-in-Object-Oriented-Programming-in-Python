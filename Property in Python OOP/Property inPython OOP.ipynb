{
 "cells": [
  {
   "cell_type": "markdown",
   "id": "9a12ef27",
   "metadata": {
    "slideshow": {
     "slide_type": "skip"
    }
   },
   "source": [
    "## Property in Python OOP"
   ]
  },
  {
   "cell_type": "code",
   "execution_count": 21,
   "id": "ccd9dee8",
   "metadata": {
    "slideshow": {
     "slide_type": "skip"
    }
   },
   "outputs": [],
   "source": [
    "# How to Create a Property : Syntax 1\n",
    "\n",
    "class Student:\n",
    "    \n",
    "    num_undergraduates = 0\n",
    "    num_postgraduates = 0  \n",
    "    \n",
    "    undergraduates_age_range = range(19, 24)\n",
    "    postgraduates_age_range = range(24, 30)\n",
    "    \n",
    "    def __init__(self, student_id, first_name, last_name, age, first_name_first=True):\n",
    "        self.id = student_id\n",
    "        self.first_name = first_name\n",
    "        self.last_name = last_name\n",
    "        self.first_name_first = first_name_first\n",
    "    \n",
    "        self.age = age\n",
    "        self.classes = []\n",
    "        \n",
    "        if self.age in Student.undergraduates_age_range:\n",
    "#             self.num_undergraduates += 1\n",
    "            Student.num_undergraduates += 1\n",
    "        \n",
    "        elif self.age in Student.postgraduates_age_range:\n",
    "#             self.num_postgraduates += 1\n",
    "            Student.num_postgraduates += 1\n",
    "        else:\n",
    "            raise Exception('Invalid Age !!')\n",
    "    \n",
    "    def enrol(self, class_name):\n",
    "        self.classes.append(class_name)\n",
    "    \n",
    "    @classmethod\n",
    "    def get_undergraduates_percentage(cls):\n",
    "        num_students = cls.num_undergraduates + cls.num_postgraduates\n",
    "        per = cls.num_postgraduates / num_students\n",
    "        \n",
    "        return per\n",
    "    \n",
    "    @classmethod\n",
    "    def create_student_from_birthday(cls, student_id, first_name, last_name, birthday):\n",
    "        # Class method is used here as an alternative constructor\n",
    "        age = round((datetime.now() - birthday).days / 365)\n",
    "        return cls(student_id, first_name, last_name, age)\n",
    "    \n",
    "    @staticmethod\n",
    "    def is_passed(CGPA):\n",
    "        if CGPA >= 50:\n",
    "            return True\n",
    "        \n",
    "        elif CGPA < 50:\n",
    "            return False\n",
    "        \n",
    "        else:\n",
    "            raise Exception('Invalid CGPA')\n",
    "    \n",
    "    def get_full_name(self):\n",
    "        if self.first_name_first:\n",
    "            return '{} {}'.format(self.first_name, self.last_name)\n",
    "        else:\n",
    "            return '{} {}'.format(self.last_name, self.first_name)\n",
    "    \n",
    "    def set_full_name(self, full_name):\n",
    "        if self.first_name_first:\n",
    "            self.first_name, self.last_name = full_name.split()\n",
    "        else:\n",
    "            self.last_name, self.first_name = full_name.split()\n",
    "            \n",
    "    def delete_full_name(self):\n",
    "        print('Full name has been deleted !!')\n",
    "        self.first_name = None\n",
    "        self.last_name = None\n",
    "    \n",
    "    full_name = property(get_full_name, set_full_name, delete_full_name)\n",
    "\n",
    "student = Student(1, 'Jac', 'John', 25)\n",
    "print(student.full_name)\n",
    "print(student.first_name)\n",
    "print(student.last_name)\n",
    "\n",
    "print()\n",
    "\n",
    "student.full_name = 'Jack John'\n",
    "print(student.full_name)\n",
    "print(student.first_name)\n",
    "print(student.last_name)\n",
    "\n",
    "print(student.full_name)\n",
    "\n",
    "Use a property getter\n",
    "student = Student(1, 'Jack', 'John', 25, first_name_first=False)\n",
    "print(student.full_name)\n",
    "\n",
    "student = Student(1, 'Jack', 'John', 25, first_name_first=True)\n",
    "print(student.full_name)\n",
    "\n",
    "Use a property setter\n",
    "student = Student(1, 'Jac', 'John', 25, first_name_first=True)\n",
    "\n",
    "print('Before ...')\n",
    "print(student.full_name)\n",
    "print(student.first_name)\n",
    "print(student.last_name)\n",
    "\n",
    "\n",
    "print('\\nAfter ...')\n",
    "student.full_name = 'Jack John'\n",
    "print(student.full_name)\n",
    "print(student.first_name)\n",
    "print(student.last_name)\n",
    "\n",
    "\n",
    "Use a property deleter\n",
    "student = Student(1, 'Jac', 'John', 25)\n",
    "\n",
    "print('Before ...')\n",
    "print(student.full_name)\n",
    "print(student.first_name)\n",
    "print(student.last_name)\n",
    "\n",
    "\n",
    "print('\\nAfter ...')\n",
    "del student.full_name\n",
    "print(student.full_name)\n",
    "print(student.first_name)\n",
    "print(student.last_name)\n"
   ]
  },
  {
   "cell_type": "code",
   "execution_count": 22,
   "id": "5101b21d",
   "metadata": {
    "slideshow": {
     "slide_type": "skip"
    }
   },
   "outputs": [],
   "source": [
    "# How to Create a Property : Syntax 2\n",
    "# COMPLETE HERE"
   ]
  },
  {
   "cell_type": "markdown",
   "id": "ab030335",
   "metadata": {
    "slideshow": {
     "slide_type": "subslide"
    }
   },
   "source": [
    "- What will happen if we change the full name only"
   ]
  },
  {
   "cell_type": "code",
   "execution_count": 75,
   "id": "f424bf59",
   "metadata": {},
   "outputs": [
    {
     "name": "stdout",
     "output_type": "stream",
     "text": [
      "Jac John\n",
      "Jac\n",
      "John\n",
      "\n",
      "Jack John\n",
      "Jac\n",
      "John\n"
     ]
    }
   ],
   "source": [
    "from datetime import datetime\n",
    "\n",
    "class Student:\n",
    "    \n",
    "    num_undergraduates = 0\n",
    "    num_postgraduates = 0 \n",
    "    \n",
    "    undergraduates_age_range = range(19, 24)\n",
    "    postgraduates_age_range = range(24, 30)\n",
    "    \n",
    "    def __init__(self, _id, first_name, last_name, age):\n",
    "        self.id = _id\n",
    "        self.first_name = first_name\n",
    "        self.last_name = last_name\n",
    "        self.full_name = self.first_name + \" \" + self.last_name\n",
    "        self.age = age\n",
    "        \n",
    "        if self.age in Student.undergraduates_age_range:\n",
    "            Student.num_undergraduates += 1\n",
    "        \n",
    "        elif self.age in Student.postgraduates_age_range:\n",
    "            Student.num_postgraduates += 1\n",
    "            \n",
    "        else:\n",
    "            raise Exception('Invalid Age')\n",
    "        \n",
    "        self.classes = []\n",
    "    \n",
    "    def enrol(self, class_name):\n",
    "        print(self.full_name)\n",
    "        self.classes.append(class_name)\n",
    "    \n",
    "    @classmethod\n",
    "    def get_undergraduates_percentage(cls):\n",
    "        num_students = cls.num_undergraduates + cls.num_postgraduates\n",
    "        \n",
    "        return cls.num_undergraduates / num_students\n",
    "    \n",
    "    @classmethod\n",
    "    def create_student_from_birthday(cls, student_id, first_name, last_name, \n",
    "                                     birthday):\n",
    "        # Class method is used here as an alternative constructor\n",
    "        age = round((datetime.now() - birthday).days / 365)\n",
    "        return cls(student_id, first_name, last_name, age)\n",
    "    \n",
    "    @staticmethod\n",
    "    def is_passed(cgpa):\n",
    "        \n",
    "        if cgpa > 50:\n",
    "            return True\n",
    "        \n",
    "        else:\n",
    "            return False\n",
    "        \n",
    "student = Student(1, 'Jac', 'John', 25)\n",
    "print(student.full_name)\n",
    "print(student.first_name)\n",
    "print(student.last_name)\n",
    "\n",
    "print()\n",
    "\n",
    "student.full_name = 'Jack John'\n",
    "print(student.full_name)\n",
    "print(student.first_name)\n",
    "print(student.last_name)"
   ]
  },
  {
   "cell_type": "markdown",
   "id": "0d5fe682",
   "metadata": {
    "slideshow": {
     "slide_type": "fragment"
    }
   },
   "source": [
    "- How to make the order of names in the full name adjustable"
   ]
  },
  {
   "cell_type": "code",
   "execution_count": null,
   "id": "38eb942b",
   "metadata": {},
   "outputs": [],
   "source": [
    "from datetime import datetime\n",
    "\n",
    "class Student:\n",
    "    \n",
    "    num_undergraduates = 0\n",
    "    num_postgraduates = 0 \n",
    "    \n",
    "    undergraduates_age_range = range(19, 24)\n",
    "    postgraduates_age_range = range(24, 30)\n",
    "    \n",
    "    def __init__(self, _id, first_name, last_name, age, first_name_first=True):\n",
    "        self.id = _id\n",
    "        self.first_name = first_name\n",
    "        self.last_name = last_name\n",
    "        self.first_name_first = first_name_first\n",
    "        self.age = age\n",
    "        \n",
    "        if self.age in Student.undergraduates_age_range:\n",
    "            Student.num_undergraduates += 1\n",
    "        \n",
    "        elif self.age in Student.postgraduates_age_range:\n",
    "            Student.num_postgraduates += 1\n",
    "            \n",
    "        else:\n",
    "            raise Exception('Invalid Age')\n",
    "        \n",
    "        self.classes = []\n",
    "    \n",
    "    def enrol(self, class_name):\n",
    "        print(self.full_name)\n",
    "        self.classes.append(class_name)\n",
    "    \n",
    "    @classmethod\n",
    "    def get_undergraduates_percentage(cls):\n",
    "        num_students = cls.num_undergraduates + cls.num_postgraduates\n",
    "        \n",
    "        return cls.num_undergraduates / num_students\n",
    "    \n",
    "    @classmethod\n",
    "    def create_student_from_birthday(cls, student_id, first_name, last_name, \n",
    "                                     birthday):\n",
    "        # Class method is used here as an alternative constructor\n",
    "        age = round((datetime.now() - birthday).days / 365)\n",
    "        return cls(student_id, first_name, last_name, age)\n",
    "    \n",
    "    @staticmethod\n",
    "    def is_passed(cgpa):\n",
    "        \n",
    "        if cgpa > 50:\n",
    "            return True\n",
    "        \n",
    "        else:\n",
    "            return False"
   ]
  },
  {
   "cell_type": "markdown",
   "id": "ad7584c5",
   "metadata": {
    "slideshow": {
     "slide_type": "subslide"
    }
   },
   "source": [
    "- How to define a property getter"
   ]
  },
  {
   "cell_type": "code",
   "execution_count": 82,
   "id": "a7d056c8",
   "metadata": {},
   "outputs": [
    {
     "name": "stdout",
     "output_type": "stream",
     "text": [
      "Jack Ma\n",
      "Jack Ma\n"
     ]
    }
   ],
   "source": [
    "from datetime import datetime\n",
    "\n",
    "class Student:\n",
    "    \n",
    "    num_undergraduates = 0\n",
    "    num_postgraduates = 0 \n",
    "    \n",
    "    undergraduates_age_range = range(19, 24)\n",
    "    postgraduates_age_range = range(24, 30)\n",
    "    \n",
    "    def __init__(self, _id, first_name, last_name, age, first_name_first=True):\n",
    "        self.id = _id\n",
    "        self.first_name = first_name\n",
    "        self.last_name = last_name\n",
    "        self.first_name_first = first_name_first\n",
    "        self.age = age\n",
    "        \n",
    "        if self.age in Student.undergraduates_age_range:\n",
    "            Student.num_undergraduates += 1\n",
    "        \n",
    "        elif self.age in Student.postgraduates_age_range:\n",
    "            Student.num_postgraduates += 1\n",
    "            \n",
    "        else:\n",
    "            raise Exception('Invalid Age')\n",
    "        \n",
    "        self.classes = []\n",
    "    \n",
    "    def get_full_name(self):\n",
    "        if self.first_name_first:\n",
    "            return self.first_name + ' ' + self.last_name\n",
    "        else:\n",
    "            return self.last_name + ' ' + self.first_name\n",
    "    \n",
    "    full_name = property(get_full_name, None, None)\n",
    "\n",
    "student1 = Student(1, 'Jack', 'Ma', 25, first_name_first=True)\n",
    "print(student1.get_full_name())\n",
    "\n",
    "print(student1.full_name)"
   ]
  },
  {
   "cell_type": "markdown",
   "id": "8ce94dd2",
   "metadata": {
    "slideshow": {
     "slide_type": "subslide"
    }
   },
   "source": [
    "- How to define a property setter"
   ]
  },
  {
   "cell_type": "code",
   "execution_count": 83,
   "id": "8265ec89",
   "metadata": {},
   "outputs": [],
   "source": [
    "from datetime import datetime\n",
    "\n",
    "class Student:\n",
    "    \n",
    "    num_undergraduates = 0\n",
    "    num_postgraduates = 0 \n",
    "    \n",
    "    undergraduates_age_range = range(19, 24)\n",
    "    postgraduates_age_range = range(24, 30)\n",
    "    \n",
    "    def __init__(self, _id, first_name, last_name, age, first_name_first=True):\n",
    "        self.id = _id\n",
    "        self.first_name = first_name\n",
    "        self.last_name = last_name\n",
    "        self.first_name_first = first_name_first\n",
    "        self.age = age\n",
    "        \n",
    "        if self.age in Student.undergraduates_age_range:\n",
    "            Student.num_undergraduates += 1\n",
    "        \n",
    "        elif self.age in Student.postgraduates_age_range:\n",
    "            Student.num_postgraduates += 1\n",
    "            \n",
    "        else:\n",
    "            raise Exception('Invalid Age')\n",
    "        \n",
    "        self.classes = []\n",
    "    \n",
    "    def get_full_name(self):\n",
    "        if self.first_name_first:\n",
    "            return self.first_name + ' ' + self.last_name\n",
    "        else:\n",
    "            return self.last_name + ' ' + self.first_name\n",
    "    \n",
    "    def set_full_name(self, full_name):\n",
    "        if self.first_name_first:\n",
    "            self.first_name, self.last_name = full_name.split()\n",
    "        else:\n",
    "            self.last_name, self.first_name = full_name.split()\n",
    "        \n",
    "    \n",
    "    full_name = property(get_full_name, set_full_name, None)\n"
   ]
  },
  {
   "cell_type": "markdown",
   "id": "c8111651",
   "metadata": {
    "slideshow": {
     "slide_type": "fragment"
    }
   },
   "source": [
    "- How to use a property setter"
   ]
  },
  {
   "cell_type": "code",
   "execution_count": 85,
   "id": "3011a0a5",
   "metadata": {},
   "outputs": [
    {
     "name": "stdout",
     "output_type": "stream",
     "text": [
      "Before ...\n",
      "Jac\n",
      "John\n",
      "Jac John\n",
      "\n",
      "After ...\n",
      "Jack\n",
      "John\n",
      "Jack John\n",
      "\n",
      "\n"
     ]
    }
   ],
   "source": [
    "student = Student(1, 'Jac', 'John', 25, first_name_first=True)\n",
    "\n",
    "print('Before ...')\n",
    "print(student.full_name)\n",
    "print(student.first_name)\n",
    "print(student.last_name)\n",
    "\n",
    "\n",
    "print('\\nAfter ...')\n",
    "student.full_name = 'Jack John'\n",
    "print(student.full_name)\n",
    "print(student.first_name)\n",
    "print(student.last_name)\n",
    "\n",
    "print()\n",
    "print()\n",
    "\n",
    "\n",
    "\n"
   ]
  },
  {
   "cell_type": "markdown",
   "id": "8a981f69",
   "metadata": {
    "slideshow": {
     "slide_type": "subslide"
    }
   },
   "source": [
    "- How to define a property deleter"
   ]
  },
  {
   "cell_type": "code",
   "execution_count": 86,
   "id": "1a5f1947",
   "metadata": {},
   "outputs": [],
   "source": [
    "from datetime import datetime\n",
    "\n",
    "class Student:\n",
    "    \n",
    "    num_undergraduates = 0\n",
    "    num_postgraduates = 0 \n",
    "    \n",
    "    undergraduates_age_range = range(19, 24)\n",
    "    postgraduates_age_range = range(24, 30)\n",
    "    \n",
    "    def __init__(self, _id, first_name, last_name, age, first_name_first=True):\n",
    "        self.id = _id\n",
    "        self.first_name = first_name\n",
    "        self.last_name = last_name\n",
    "        self.first_name_first = first_name_first\n",
    "        self.age = age\n",
    "        \n",
    "        if self.age in Student.undergraduates_age_range:\n",
    "            Student.num_undergraduates += 1\n",
    "        \n",
    "        elif self.age in Student.postgraduates_age_range:\n",
    "            Student.num_postgraduates += 1\n",
    "            \n",
    "        else:\n",
    "            raise Exception('Invalid Age')\n",
    "        \n",
    "        self.classes = []\n",
    "    \n",
    "    def get_full_name(self):\n",
    "        if self.first_name_first:\n",
    "            return self.first_name + ' ' + self.last_name\n",
    "        else:\n",
    "            return self.last_name + ' ' + self.first_name\n",
    "    \n",
    "    def set_full_name(self, full_name):\n",
    "        if self.first_name_first:\n",
    "            self.first_name, self.last_name = full_name.split()\n",
    "        else:\n",
    "            self.last_name, self.first_name = full_name.split()\n",
    "        \n",
    "    \n",
    "    def delete_full_name(self):\n",
    "        print('I am deleter')\n",
    "        self.first_name = None\n",
    "        self.last_name = None\n",
    "    \n",
    "    full_name = property(get_full_name, set_full_name, delete_full_name)\n"
   ]
  },
  {
   "cell_type": "markdown",
   "id": "7837831a",
   "metadata": {
    "slideshow": {
     "slide_type": "fragment"
    }
   },
   "source": [
    "- How to use a property deleter"
   ]
  },
  {
   "cell_type": "code",
   "execution_count": 87,
   "id": "9495a24e",
   "metadata": {},
   "outputs": [
    {
     "name": "stdout",
     "output_type": "stream",
     "text": [
      "Before ...\n",
      "Jac\n",
      "John\n",
      "Jac John\n",
      "\n",
      "After ...\n",
      "I am deleter\n",
      "None\n",
      "None\n"
     ]
    },
    {
     "ename": "TypeError",
     "evalue": "unsupported operand type(s) for +: 'NoneType' and 'str'",
     "output_type": "error",
     "traceback": [
      "\u001b[1;31m---------------------------------------------------------------------------\u001b[0m",
      "\u001b[1;31mTypeError\u001b[0m                                 Traceback (most recent call last)",
      "\u001b[1;32m<ipython-input-87-5fa07d3e15b1>\u001b[0m in \u001b[0;36m<module>\u001b[1;34m\u001b[0m\n\u001b[0;32m     10\u001b[0m \u001b[0mprint\u001b[0m\u001b[1;33m(\u001b[0m\u001b[0mstudent\u001b[0m\u001b[1;33m.\u001b[0m\u001b[0mfirst_name\u001b[0m\u001b[1;33m)\u001b[0m\u001b[1;33m\u001b[0m\u001b[1;33m\u001b[0m\u001b[0m\n\u001b[0;32m     11\u001b[0m \u001b[0mprint\u001b[0m\u001b[1;33m(\u001b[0m\u001b[0mstudent\u001b[0m\u001b[1;33m.\u001b[0m\u001b[0mlast_name\u001b[0m\u001b[1;33m)\u001b[0m\u001b[1;33m\u001b[0m\u001b[1;33m\u001b[0m\u001b[0m\n\u001b[1;32m---> 12\u001b[1;33m \u001b[0mprint\u001b[0m\u001b[1;33m(\u001b[0m\u001b[0mstudent\u001b[0m\u001b[1;33m.\u001b[0m\u001b[0mfull_name\u001b[0m\u001b[1;33m)\u001b[0m\u001b[1;33m\u001b[0m\u001b[1;33m\u001b[0m\u001b[0m\n\u001b[0m\u001b[0;32m     13\u001b[0m \u001b[0mprint\u001b[0m\u001b[1;33m(\u001b[0m\u001b[1;33m)\u001b[0m\u001b[1;33m\u001b[0m\u001b[1;33m\u001b[0m\u001b[0m\n\u001b[0;32m     14\u001b[0m \u001b[0mprint\u001b[0m\u001b[1;33m(\u001b[0m\u001b[1;33m)\u001b[0m\u001b[1;33m\u001b[0m\u001b[1;33m\u001b[0m\u001b[0m\n",
      "\u001b[1;32m<ipython-input-86-499dc596e5d3>\u001b[0m in \u001b[0;36mget_full_name\u001b[1;34m(self)\u001b[0m\n\u001b[0;32m     29\u001b[0m     \u001b[1;32mdef\u001b[0m \u001b[0mget_full_name\u001b[0m\u001b[1;33m(\u001b[0m\u001b[0mself\u001b[0m\u001b[1;33m)\u001b[0m\u001b[1;33m:\u001b[0m\u001b[1;33m\u001b[0m\u001b[1;33m\u001b[0m\u001b[0m\n\u001b[0;32m     30\u001b[0m         \u001b[1;32mif\u001b[0m \u001b[0mself\u001b[0m\u001b[1;33m.\u001b[0m\u001b[0mfirst_name_first\u001b[0m\u001b[1;33m:\u001b[0m\u001b[1;33m\u001b[0m\u001b[1;33m\u001b[0m\u001b[0m\n\u001b[1;32m---> 31\u001b[1;33m             \u001b[1;32mreturn\u001b[0m \u001b[0mself\u001b[0m\u001b[1;33m.\u001b[0m\u001b[0mfirst_name\u001b[0m \u001b[1;33m+\u001b[0m \u001b[1;34m' '\u001b[0m \u001b[1;33m+\u001b[0m \u001b[0mself\u001b[0m\u001b[1;33m.\u001b[0m\u001b[0mlast_name\u001b[0m\u001b[1;33m\u001b[0m\u001b[1;33m\u001b[0m\u001b[0m\n\u001b[0m\u001b[0;32m     32\u001b[0m         \u001b[1;32melse\u001b[0m\u001b[1;33m:\u001b[0m\u001b[1;33m\u001b[0m\u001b[1;33m\u001b[0m\u001b[0m\n\u001b[0;32m     33\u001b[0m             \u001b[1;32mreturn\u001b[0m \u001b[0mself\u001b[0m\u001b[1;33m.\u001b[0m\u001b[0mlast_name\u001b[0m \u001b[1;33m+\u001b[0m \u001b[1;34m' '\u001b[0m \u001b[1;33m+\u001b[0m \u001b[0mself\u001b[0m\u001b[1;33m.\u001b[0m\u001b[0mfirst_name\u001b[0m\u001b[1;33m\u001b[0m\u001b[1;33m\u001b[0m\u001b[0m\n",
      "\u001b[1;31mTypeError\u001b[0m: unsupported operand type(s) for +: 'NoneType' and 'str'"
     ]
    }
   ],
   "source": [
    "student = Student(1, 'Jac', 'John', 25)\n",
    "\n",
    "print('Before ...')\n",
    "print(student.full_name)\n",
    "print(student.first_name)\n",
    "print(student.last_name)\n",
    "\n",
    "\n",
    "print('\\nAfter ...')\n",
    "del student.full_name\n",
    "print(student.full_name)\n",
    "print(student.first_name)\n",
    "print(student.last_name)\n",
    "\n",
    "print()\n",
    "print()"
   ]
  }
 ],
 "metadata": {
  "kernelspec": {
   "display_name": "Python 3 (ipykernel)",
   "language": "python",
   "name": "python3"
  },
  "language_info": {
   "codemirror_mode": {
    "name": "ipython",
    "version": 3
   },
   "file_extension": ".py",
   "mimetype": "text/x-python",
   "name": "python",
   "nbconvert_exporter": "python",
   "pygments_lexer": "ipython3",
   "version": "3.7.8"
  }
 },
 "nbformat": 4,
 "nbformat_minor": 5
}
