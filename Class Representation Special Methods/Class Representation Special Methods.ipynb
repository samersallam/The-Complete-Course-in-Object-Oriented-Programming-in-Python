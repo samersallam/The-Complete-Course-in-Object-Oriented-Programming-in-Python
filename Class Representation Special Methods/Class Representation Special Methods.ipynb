{
 "cells": [
  {
   "cell_type": "markdown",
   "metadata": {
    "slideshow": {
     "slide_type": "skip"
    }
   },
   "source": [
    "## Class Representation Special Methods"
   ]
  },
  {
   "cell_type": "markdown",
   "metadata": {
    "slideshow": {
     "slide_type": "slide"
    }
   },
   "source": [
    "* Let us see the output of str when __str__ is not overridden"
   ]
  },
  {
   "cell_type": "code",
   "execution_count": 13,
   "metadata": {},
   "outputs": [
    {
     "name": "stdout",
     "output_type": "stream",
     "text": [
      "<__main__.Student object at 0x00000177D22CB4C8>\n"
     ]
    }
   ],
   "source": [
    "import uuid\n",
    "\n",
    "class Student:\n",
    "    \n",
    "    def __init__(self, first_name, last_name, age):\n",
    "        self.id = str(uuid.uuid4())\n",
    "        self.first_name = first_name\n",
    "        self.last_name = last_name\n",
    "        self.full_name = first_name + \" \" + last_name\n",
    "        self.age = age\n",
    "        self.classes = []\n",
    "\n",
    "student = Student('John', 'Doe', 25)\n",
    "print(str(student))"
   ]
  },
  {
   "cell_type": "markdown",
   "metadata": {
    "slideshow": {
     "slide_type": "fragment"
    }
   },
   "source": [
    "* How to override __str__ method"
   ]
  },
  {
   "cell_type": "code",
   "execution_count": 14,
   "metadata": {},
   "outputs": [
    {
     "name": "stdout",
     "output_type": "stream",
     "text": [
      "I am John Doe and my age is 25\n",
      "\n"
     ]
    }
   ],
   "source": [
    "import uuid\n",
    "\n",
    "class Student:\n",
    "    \n",
    "    def __init__(self, first_name, last_name, age):\n",
    "        self.id = str(uuid.uuid4())\n",
    "        self.first_name = first_name\n",
    "        self.last_name = last_name\n",
    "        self.full_name = first_name + \" \" + last_name\n",
    "        self.age = age\n",
    "        self.classes = []\n",
    "    \n",
    "    def __str__(self):\n",
    "        return f'I am {self.first_name} {self.last_name} and my age is {self.age}'\n",
    "    \n",
    "student = Student('John', 'Doe', 25)\n",
    "print(str(student))\n",
    "print()\n",
    "\n",
    "\n",
    "\n"
   ]
  },
  {
   "cell_type": "markdown",
   "metadata": {
    "slideshow": {
     "slide_type": "slide"
    }
   },
   "source": [
    "* Let us see the output of repr when __repr__ is not overridden"
   ]
  },
  {
   "cell_type": "code",
   "execution_count": 15,
   "metadata": {},
   "outputs": [
    {
     "name": "stdout",
     "output_type": "stream",
     "text": [
      "<__main__.Student object at 0x00000177D22E5308>\n"
     ]
    }
   ],
   "source": [
    "import uuid\n",
    "\n",
    "class Student:\n",
    "    \n",
    "    def __init__(self, first_name, last_name, age):\n",
    "        self.id = str(uuid.uuid4())\n",
    "        self.first_name = first_name\n",
    "        self.last_name = last_name\n",
    "        self.full_name = first_name + \" \" + last_name\n",
    "        self.age = age\n",
    "        self.classes = []\n",
    "\n",
    "student = Student('John', 'Doe', 25)\n",
    "print(repr(student))"
   ]
  },
  {
   "cell_type": "markdown",
   "metadata": {
    "slideshow": {
     "slide_type": "fragment"
    }
   },
   "source": [
    "* How to override __repr__ method"
   ]
  },
  {
   "cell_type": "code",
   "execution_count": 17,
   "metadata": {},
   "outputs": [
    {
     "name": "stdout",
     "output_type": "stream",
     "text": [
      "Student(\"John\", \"Doe\", 25)\n",
      "\n"
     ]
    }
   ],
   "source": [
    "import uuid\n",
    "\n",
    "class Student:\n",
    "    \n",
    "    def __init__(self, first_name, last_name, age):\n",
    "        self.id = str(uuid.uuid4())\n",
    "        self.first_name = first_name\n",
    "        self.last_name = last_name\n",
    "        self.full_name = first_name + \" \" + last_name\n",
    "        self.age = age\n",
    "        self.classes = []\n",
    "    \n",
    "    def __repr__(self):\n",
    "        return f'Student(\"{self.first_name}\", \"{self.last_name}\", {self.age})'\n",
    "    \n",
    "student = Student('John', 'Doe', 25)\n",
    "Student(\"John\", \"Doe\", 25)\n",
    "print(repr(student))\n",
    "print()"
   ]
  },
  {
   "cell_type": "markdown",
   "metadata": {},
   "source": [
    "### Thank You"
   ]
  }
 ],
 "metadata": {
  "kernelspec": {
   "display_name": "Python 3",
   "language": "python",
   "name": "python3"
  },
  "language_info": {
   "codemirror_mode": {
    "name": "ipython",
    "version": 3
   },
   "file_extension": ".py",
   "mimetype": "text/x-python",
   "name": "python",
   "nbconvert_exporter": "python",
   "pygments_lexer": "ipython3",
   "version": "3.7.1"
  }
 },
 "nbformat": 4,
 "nbformat_minor": 4
}
