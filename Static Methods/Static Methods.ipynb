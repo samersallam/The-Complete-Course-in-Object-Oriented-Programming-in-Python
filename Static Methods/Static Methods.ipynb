{
 "cells": [
  {
   "cell_type": "markdown",
   "id": "9a088824",
   "metadata": {
    "slideshow": {
     "slide_type": "skip"
    }
   },
   "source": [
    "## Static Methods"
   ]
  },
  {
   "cell_type": "code",
   "execution_count": 18,
   "id": "caa0a3d1",
   "metadata": {
    "slideshow": {
     "slide_type": "skip"
    }
   },
   "outputs": [],
   "source": [
    "class Student:\n",
    "    \n",
    "    num_undergraduates = 0\n",
    "    num_postgraduates = 0  \n",
    "    \n",
    "    undergraduates_age_range = range(19, 24)\n",
    "    postgraduates_age_range = range(24, 30)\n",
    "    \n",
    "    def __init__(self, student_id, first_name, last_name, age):\n",
    "        self.id = student_id\n",
    "        self.first_name = first_name\n",
    "        self.last_name = last_name\n",
    "        self.full_name = first_name + \" \" + last_name\n",
    "        self.age = age\n",
    "        self.classes = []\n",
    "        \n",
    "        if self.age in Student.undergraduates_age_range:\n",
    "#             self.num_undergraduates += 1\n",
    "            Student.num_undergraduates += 1\n",
    "        \n",
    "        elif self.age in Student.postgraduates_age_range:\n",
    "#             self.num_postgraduates += 1\n",
    "            Student.num_postgraduates += 1\n",
    "        else:\n",
    "            raise Exception('Invalid Age !!')\n",
    "    \n",
    "    def enrol(self, class_name):\n",
    "        self.classes.append(class_name)\n",
    "    \n",
    "    @classmethod\n",
    "    def get_undergraduates_percentage(cls):\n",
    "        num_students = cls.num_undergraduates + cls.num_postgraduates\n",
    "        per = cls.num_postgraduates / num_students\n",
    "        \n",
    "        return per\n",
    "    \n",
    "    @classmethod\n",
    "    def create_student_from_birthday(cls, student_id, first_name, last_name, birthday):\n",
    "        # Class method is used here as an alternative constructor\n",
    "        age = round((datetime.now() - birthday).days / 365)\n",
    "        return cls(student_id, first_name, last_name, age)\n",
    "    \n",
    "    @staticmethod\n",
    "    def is_passed(CGPA):\n",
    "        if CGPA >= 50:\n",
    "            return True\n",
    "        \n",
    "        elif CGPA < 50:\n",
    "            return False\n",
    "        \n",
    "        else:\n",
    "            raise Exception('Invalid CGPA')\n",
    "\n",
    "# cgpa = 50\n",
    "# if Student.is_passed(cgpa):\n",
    "#     print('Passed')\n",
    "# else:\n",
    "#     print('Failed')"
   ]
  },
  {
   "cell_type": "markdown",
   "id": "8c55b086",
   "metadata": {
    "slideshow": {
     "slide_type": "notes"
    }
   },
   "source": [
    "Usually we use static methods\n",
    "- To create the methods that are related to the class but they do not need access neither to the object nor to the class\n",
    "\n",
    "- To combine together a group of utilities functions about one idea or concept"
   ]
  },
  {
   "cell_type": "markdown",
   "id": "01b90cc2",
   "metadata": {
    "slideshow": {
     "slide_type": "subslide"
    }
   },
   "source": [
    "- How to create a static method and how to name it"
   ]
  },
  {
   "cell_type": "code",
   "execution_count": 66,
   "id": "99e6ed97",
   "metadata": {
    "slideshow": {
     "slide_type": "-"
    }
   },
   "outputs": [],
   "source": [
    "from datetime import datetime\n",
    "\n",
    "class Student:\n",
    "    \n",
    "    num_undergraduates = 0\n",
    "    num_postgraduates = 0 \n",
    "    \n",
    "    undergraduates_age_range = range(19, 24)\n",
    "    postgraduates_age_range = range(24, 30)\n",
    "    \n",
    "    def __init__(self, _id, first_name, last_name, age):\n",
    "        self.id = _id\n",
    "        self.first_name = first_name\n",
    "        self.last_name = last_name\n",
    "        self.full_name = self.first_name + \" \" + self.last_name\n",
    "        self.age = age\n",
    "        \n",
    "        if self.age in Student.undergraduates_age_range:\n",
    "            Student.num_undergraduates += 1\n",
    "        \n",
    "        elif self.age in Student.postgraduates_age_range:\n",
    "            Student.num_postgraduates += 1\n",
    "            \n",
    "        else:\n",
    "            raise Exception('Invalid Age')\n",
    "        \n",
    "        self.classes = []\n",
    "    \n",
    "    def enrol(self, class_name):\n",
    "        print(self.full_name)\n",
    "        self.classes.append(class_name)\n",
    "    \n",
    "    @classmethod\n",
    "    def get_undergraduates_percentage(cls):\n",
    "        num_students = cls.num_undergraduates + cls.num_postgraduates\n",
    "        \n",
    "        return cls.num_undergraduates / num_students\n",
    "    \n",
    "    @classmethod\n",
    "    def create_student_from_birthday(cls, student_id, first_name, last_name, \n",
    "                                     birthday):\n",
    "        # Class method is used here as an alternative constructor\n",
    "        age = round((datetime.now() - birthday).days / 365)\n",
    "        return cls(student_id, first_name, last_name, age)\n",
    "    \n",
    "    @staticmethod\n",
    "    def is_passed(cgpa):\n",
    "        \n",
    "        if cgpa > 50:\n",
    "            return True\n",
    "        \n",
    "        else:\n",
    "            return False"
   ]
  },
  {
   "cell_type": "markdown",
   "id": "b7ab61e7",
   "metadata": {
    "slideshow": {
     "slide_type": "fragment"
    }
   },
   "source": [
    "- How to call a static method"
   ]
  },
  {
   "cell_type": "code",
   "execution_count": 69,
   "id": "442b4c4d",
   "metadata": {
    "slideshow": {
     "slide_type": "-"
    }
   },
   "outputs": [
    {
     "name": "stdout",
     "output_type": "stream",
     "text": [
      "Passed\n",
      "\n"
     ]
    }
   ],
   "source": [
    "cgpa = 55\n",
    "if Student.is_passed(cgpa):\n",
    "    print('Passed')\n",
    "else:\n",
    "    print('Failed')\n",
    "\n",
    "print()\n"
   ]
  }
 ],
 "metadata": {
  "kernelspec": {
   "display_name": "Python 3 (ipykernel)",
   "language": "python",
   "name": "python3"
  },
  "language_info": {
   "codemirror_mode": {
    "name": "ipython",
    "version": 3
   },
   "file_extension": ".py",
   "mimetype": "text/x-python",
   "name": "python",
   "nbconvert_exporter": "python",
   "pygments_lexer": "ipython3",
   "version": "3.7.8"
  }
 },
 "nbformat": 4,
 "nbformat_minor": 5
}
