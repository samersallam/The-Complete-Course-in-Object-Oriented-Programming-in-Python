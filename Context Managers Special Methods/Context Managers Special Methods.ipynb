{
 "cells": [
  {
   "cell_type": "markdown",
   "metadata": {
    "slideshow": {
     "slide_type": "skip"
    }
   },
   "source": [
    "## Context Managers Special Methods"
   ]
  },
  {
   "cell_type": "markdown",
   "metadata": {
    "slideshow": {
     "slide_type": "slide"
    }
   },
   "source": [
    "* Show why context managers are useful"
   ]
  },
  {
   "cell_type": "code",
   "execution_count": null,
   "metadata": {},
   "outputs": [],
   "source": [
    "file_path = r'D:\\Training\\Samer Academy\\Online Courses\\[2] python-oop\\Sections\\dataset\\dummy.txt'\n",
    "\n",
    "# fil = open(file_path)\n",
    "# content = fil.read()\n",
    "# a = [1,2]\n",
    "# b = a[10]\n",
    "# fil.close()\n",
    "with open(file_path) as fil:\n",
    "    a = [1,2]\n",
    "    b = a[10]\n",
    "    content = fil.read()\n",
    "\n",
    "print(content)\n",
    "print(fil.closed)"
   ]
  },
  {
   "cell_type": "code",
   "execution_count": null,
   "metadata": {},
   "outputs": [],
   "source": [
    "print(fil.closed)\n",
    "print()"
   ]
  },
  {
   "cell_type": "markdown",
   "metadata": {
    "slideshow": {
     "slide_type": "slide"
    }
   },
   "source": [
    "* Let us define the File class to simulate open function"
   ]
  },
  {
   "cell_type": "code",
   "execution_count": null,
   "metadata": {},
   "outputs": [],
   "source": [
    "class File:\n",
    "    def __init__(self, file_path, mode):\n",
    "        self.file = None\n",
    "        self.file_path = file_path\n",
    "        self.mode = mode\n",
    "    \n",
    "    def __enter__(self):\n",
    "        self.file = open(self.file_path, self.mode)\n",
    "        return self.file\n",
    "    \n",
    "    def __exit__(self, exception_type, exception_value, traceback):\n",
    "        self.file.close()\n",
    "        print('The file has been closed')\n",
    "        print('exception_type : ', exception_type)\n",
    "        print('exception_value : ', exception_value)\n",
    "        print('traceback : ', traceback)\n",
    "\n",
    "file_path = r'D:\\Training\\Samer Academy\\Online Courses\\[2] python-oop\\Sections\\dataset\\dummy.txt'\n",
    "\n",
    "# with File(file_path, 'r') as f:\n",
    "#     cont = f.read()\n",
    "#     a = [1,2]\n",
    "#     print(a[10])\n",
    "#     print(cont)\n",
    "#     print()"
   ]
  },
  {
   "cell_type": "markdown",
   "metadata": {
    "slideshow": {
     "slide_type": "fragment"
    }
   },
   "source": [
    "* Check if the file is closed"
   ]
  },
  {
   "cell_type": "code",
   "execution_count": null,
   "metadata": {},
   "outputs": [],
   "source": [
    "print(f.closed)\n",
    "print()"
   ]
  },
  {
   "cell_type": "markdown",
   "metadata": {
    "slideshow": {
     "slide_type": "fragment"
    }
   },
   "source": [
    "* What will happen when an exception occurs in the \"with\" scope (We have everything we need to understand the problem)"
   ]
  },
  {
   "cell_type": "code",
   "execution_count": null,
   "metadata": {},
   "outputs": [],
   "source": [
    "with File(file_path, 'r') as f:\n",
    "    cont = f.read()\n",
    "    a = [1,2]\n",
    "    print(a[10])\n",
    "    print(cont)\n",
    "    print()"
   ]
  },
  {
   "cell_type": "markdown",
   "metadata": {},
   "source": [
    "### Thank You"
   ]
  }
 ],
 "metadata": {
  "kernelspec": {
   "display_name": "Python 3",
   "language": "python",
   "name": "python3"
  },
  "language_info": {
   "codemirror_mode": {
    "name": "ipython",
    "version": 3
   },
   "file_extension": ".py",
   "mimetype": "text/x-python",
   "name": "python",
   "nbconvert_exporter": "python",
   "pygments_lexer": "ipython3",
   "version": "3.7.1"
  }
 },
 "nbformat": 4,
 "nbformat_minor": 4
}
