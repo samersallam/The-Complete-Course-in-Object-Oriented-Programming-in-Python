{
 "cells": [
  {
   "cell_type": "markdown",
   "metadata": {
    "slideshow": {
     "slide_type": "skip"
    }
   },
   "source": [
    "## Multilevel Inheritance Relationship"
   ]
  },
  {
   "cell_type": "code",
   "execution_count": 65,
   "metadata": {
    "slideshow": {
     "slide_type": "skip"
    }
   },
   "outputs": [],
   "source": [
    "class Employee:\n",
    "    num_employees = 0\n",
    "    raise_ = 1.1\n",
    "\n",
    "    def __init__(self, first_name, last_name, salary):\n",
    "        self.first_name = first_name\n",
    "        self.last_name = last_name\n",
    "        self.email = first_name + '.' + last_name + '@company.com'\n",
    "        self.salary = salary\n",
    "        Employee.num_employees += 1\n",
    "\n",
    "    def apply_raise(self):\n",
    "        self.salary = int(self.salary * Employee.raise_)\n",
    "#         self.salary = int(self.salary * self.raise_)\n",
    "\n",
    "    @classmethod\n",
    "    def update_raise(cls, new_raise_):\n",
    "        cls.raise_ = new_raise_\n",
    "\n",
    "    @staticmethod\n",
    "    def is_workday(day):\n",
    "        if day.weekday() == 5 or day.weekday() == 6:\n",
    "            return False\n",
    "        return True\n",
    "\n",
    "    \n",
    "class Developer(Employee):\n",
    "    raise_ = 1.3\n",
    "\n",
    "    def __init__(self, first_name, last_name, salary, programming_languages):\n",
    "        super().__init__(first_name, last_name, salary)\n",
    "        # Employee.__init__(self, first_name, last_name, pay) this and the previous line did the same work, but\n",
    "        # this is more useful when work with multiple inheritance\n",
    "        self.programming_languages = programming_languages\n",
    "        \n",
    "    def add_new_programming_language(self, programming_language):\n",
    "        self.programming_languages.append(programming_language)\n",
    "\n",
    "class TeamLeader(Developer):\n",
    "    \n",
    "    raise_ = 1.4\n",
    "    \n",
    "    def __init__(self, first_name, last_name, salary, programming_languages, employees = None):\n",
    "        super().__init__(first_name, last_name, salary, programming_languages,)\n",
    "        if employees is None:\n",
    "            self.employees = []\n",
    "        else:\n",
    "            self.employees = employees\n",
    "\n",
    "    def add_employee(self, employee):\n",
    "        if emp  not in self.employees:\n",
    "            self.employees.append(employee)\n",
    "\n",
    "    def remove_employee(self, employee):\n",
    "        if emp in self.employees:\n",
    "            self.employees.remove(employee)\n",
    "\n",
    "    def print_employees(self):\n",
    "        for employee in self.employees:\n",
    "            print('-->', employee.first_name + ' ' + employee.last_name)\n",
    "            \n",
    "# leader = TeamLeader('John', 'Doe', 2000, ['Python'])\n",
    "# print(leader.salary)\n",
    "# leader.apply_raise()\n",
    "# print(leader.salary)\n",
    "\n",
    "# print(leader.programming_languages)\n",
    "# leader.add_new_programming_language('C#')\n",
    "# print(leader.programming_languages)\n",
    "\n",
    "\n",
    "# dev1 = Developer('Jack', 'Doe', 1000, ['Python'])\n",
    "# dev2 = Developer('James', 'Doe', 1000, ['Python'])\n",
    "\n",
    "\n",
    "# leader.print_employees()\n",
    "# leader.add_employee(dev1)\n",
    "# leader.add_employee(dev2)\n",
    "# leader.print_employees()"
   ]
  },
  {
   "cell_type": "markdown",
   "metadata": {
    "slideshow": {
     "slide_type": "slide"
    }
   },
   "source": [
    "* Review the previous example"
   ]
  },
  {
   "cell_type": "code",
   "execution_count": null,
   "metadata": {},
   "outputs": [],
   "source": [
    "class Employee:\n",
    "    num_employees = 0\n",
    "    raise_ = 1.1\n",
    "\n",
    "    def __init__(self, first_name, last_name, salary):\n",
    "        self.first_name = first_name\n",
    "        self.last_name = last_name\n",
    "        self.email = first_name + '.' + last_name + '@company.com'\n",
    "        self.salary = salary\n",
    "        Employee.num_employees += 1\n",
    "\n",
    "    def apply_raise(self):\n",
    "        self.salary = int(self.salary * Employee.raise_)\n",
    "#         self.salary = int(self.salary * self.raise_)\n",
    "\n",
    "    @classmethod\n",
    "    def update_raise(cls, new_raise_):\n",
    "        cls.raise_ = new_raise_\n",
    "\n",
    "    @staticmethod\n",
    "    def is_workday(day):\n",
    "        if day.weekday() == 5 or day.weekday() == 6:\n",
    "            return False\n",
    "        return True\n",
    "\n",
    "    \n",
    "class Developer(Employee):\n",
    "    raise_ = 1.3\n",
    "\n",
    "    def __init__(self, first_name, last_name, salary, programming_languages):\n",
    "        super().__init__(first_name, last_name, salary)\n",
    "        # Employee.__init__(self, first_name, last_name, pay) this and the previous line did the same work, but\n",
    "        # this is more useful when work with multiple inheritance\n",
    "        self.programming_languages = programming_languages\n",
    "        \n",
    "    def add_new_programming_language(self, programming_language):\n",
    "        self.programming_languages.append(programming_language)\n"
   ]
  },
  {
   "cell_type": "markdown",
   "metadata": {
    "slideshow": {
     "slide_type": "fragment"
    }
   },
   "source": [
    "* Let us define the class TeamLeader"
   ]
  },
  {
   "cell_type": "code",
   "execution_count": 15,
   "metadata": {},
   "outputs": [
    {
     "name": "stdout",
     "output_type": "stream",
     "text": [
      "2000\n",
      "3000\n",
      "Name : Jack MA\n",
      "Name : Mark MA\n"
     ]
    }
   ],
   "source": [
    "class TeamLeader(Developer):\n",
    "    raise_ = 1.5\n",
    "    def __init__(self, first_name, last_name, salary, programming_languages\n",
    "                 , employees):\n",
    "        super().__init__(first_name, last_name, salary, programming_languages)\n",
    "        self.employees = employees\n",
    "    \n",
    "    def append_employee(self, employee_obj):\n",
    "        self.employees.append(employee_obj)\n",
    "    \n",
    "    def print_employees(self):\n",
    "        for emp in self.employees:\n",
    "            print('Name : {} {}'.format(emp.first_name, emp.last_name))\n",
    "\n",
    "\n",
    "leader = TeamLeader('John', 'Doe', 2000, ['Python'], [])\n",
    "print(leader.salary)\n",
    "leader.apply_raise()\n",
    "print(leader.salary)\n",
    "\n",
    "dev1 = Developer('Jack', 'MA', 1000, ['Python'])\n",
    "dev2 = Developer('Mark', 'MA', 1200, ['Python'])\n",
    "leader.append_employee(dev1)\n",
    "leader.append_employee(dev2) \n",
    "leader.print_employees()\n",
    "\n",
    "leader."
   ]
  },
  {
   "cell_type": "markdown",
   "metadata": {},
   "source": [
    "### Thank You"
   ]
  }
 ],
 "metadata": {
  "kernelspec": {
   "display_name": "Python 3",
   "language": "python",
   "name": "python3"
  },
  "language_info": {
   "codemirror_mode": {
    "name": "ipython",
    "version": 3
   },
   "file_extension": ".py",
   "mimetype": "text/x-python",
   "name": "python",
   "nbconvert_exporter": "python",
   "pygments_lexer": "ipython3",
   "version": "3.7.1"
  }
 },
 "nbformat": 4,
 "nbformat_minor": 4
}
