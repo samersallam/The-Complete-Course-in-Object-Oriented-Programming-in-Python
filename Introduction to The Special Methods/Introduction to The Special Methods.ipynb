{
 "cells": [
  {
   "cell_type": "markdown",
   "metadata": {
    "slideshow": {
     "slide_type": "skip"
    }
   },
   "source": [
    "## Introduction to The Special Methods"
   ]
  },
  {
   "cell_type": "markdown",
   "metadata": {
    "slideshow": {
     "slide_type": "slide"
    }
   },
   "source": [
    "* Use dir() function and see that some of special methods are defined by default "
   ]
  },
  {
   "cell_type": "code",
   "execution_count": 13,
   "metadata": {},
   "outputs": [],
   "source": [
    "import uuid\n",
    "\n",
    "class Student:\n",
    "    def __init__(self, first_name, last_name, age):\n",
    "        self.id = str(uuid.uuid4())\n",
    "        self.first_name = first_name\n",
    "        self.last_name = last_name\n",
    "        self.full_name = first_name + \" \" + last_name\n",
    "        self.age = age\n",
    "        self.classes = []\n",
    "    \n",
    "    def enrol(self, class_name):\n",
    "        self.classes.append(class_name)\n",
    "\n",
    "student = Student('John', 'Doe', 25)\n",
    "# dir(student)"
   ]
  },
  {
   "cell_type": "markdown",
   "metadata": {
    "slideshow": {
     "slide_type": "fragment"
    }
   },
   "source": [
    "* Try str function"
   ]
  },
  {
   "cell_type": "code",
   "execution_count": 14,
   "metadata": {},
   "outputs": [
    {
     "name": "stdout",
     "output_type": "stream",
     "text": [
      "<__main__.Student object at 0x000001E22C2EA448>\n",
      "\n",
      "\n"
     ]
    }
   ],
   "source": [
    "print(str(student))\n",
    "print()\n",
    "print()"
   ]
  },
  {
   "cell_type": "markdown",
   "metadata": {
    "slideshow": {
     "slide_type": "slide"
    }
   },
   "source": [
    "* How to override a special method (Use the object attributes in the special method)"
   ]
  },
  {
   "cell_type": "code",
   "execution_count": 10,
   "metadata": {},
   "outputs": [
    {
     "name": "stdout",
     "output_type": "stream",
     "text": [
      "I am an object of the class Student, My name is John\n",
      "\n"
     ]
    }
   ],
   "source": [
    "import uuid\n",
    "\n",
    "class Student:\n",
    "    def __init__(self, first_name, last_name, age):\n",
    "        self.id = str(uuid.uuid4())\n",
    "        self.first_name = first_name\n",
    "        self.last_name = last_name\n",
    "        self.full_name = first_name + \" \" + last_name\n",
    "        self.age = age\n",
    "        self.classes = []\n",
    "    \n",
    "    def enrol(self, class_name):\n",
    "        self.classes.append(class_name)\n",
    "    \n",
    "    def __str__(self):\n",
    "        return f'I am an object of the class Student, My name is {self.first_name}'\n",
    "    \n",
    "student = Student('John', 'Doe', 25)\n",
    "print(str(student))\n",
    "print()"
   ]
  },
  {
   "cell_type": "markdown",
   "metadata": {},
   "source": [
    "### Thank You"
   ]
  }
 ],
 "metadata": {
  "kernelspec": {
   "display_name": "Python 3",
   "language": "python",
   "name": "python3"
  },
  "language_info": {
   "codemirror_mode": {
    "name": "ipython",
    "version": 3
   },
   "file_extension": ".py",
   "mimetype": "text/x-python",
   "name": "python",
   "nbconvert_exporter": "python",
   "pygments_lexer": "ipython3",
   "version": "3.7.1"
  }
 },
 "nbformat": 4,
 "nbformat_minor": 4
}
