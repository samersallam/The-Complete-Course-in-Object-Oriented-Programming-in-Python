{
 "cells": [
  {
   "cell_type": "markdown",
   "id": "9958953b",
   "metadata": {
    "slideshow": {
     "slide_type": "skip"
    }
   },
   "source": [
    "## Copy in OOP"
   ]
  },
  {
   "cell_type": "code",
   "execution_count": 26,
   "id": "4c602260",
   "metadata": {
    "slideshow": {
     "slide_type": "skip"
    }
   },
   "outputs": [],
   "source": [
    "class DummyClass:\n",
    "    def __init__(self):\n",
    "        self.dummy_value = 5\n",
    "\n",
    "# Shallow copy\n",
    "\n",
    "# obj1 = DummyClass()\n",
    "# obj2 = obj1\n",
    "\n",
    "# print('Before')\n",
    "# print(obj1.dummy_value)\n",
    "# print(obj2.dummy_value)\n",
    "\n",
    "# obj1.dummy_value = 10\n",
    "\n",
    "# print('After')\n",
    "# print(obj1.dummy_value)\n",
    "# print(obj2.dummy_value)\n",
    "\n",
    "# Deep copy\n",
    "\n",
    "# import copy\n",
    "\n",
    "# obj1 = DummyClass()\n",
    "# obj2 = copy.deepcopy(obj1)\n",
    "\n",
    "# print('Before')\n",
    "# print(obj1.dummy_value)\n",
    "# print(obj2.dummy_value)\n",
    "\n",
    "# obj1.dummy_value = 10\n",
    "\n",
    "# print('After')\n",
    "# print(obj1.dummy_value)\n",
    "# print(obj2.dummy_value)\n",
    "\n",
    "# Identity operator\n",
    "# obj1 = DummyClass()\n",
    "# obj2 = obj1\n",
    "\n",
    "# print(obj1 is obj2)\n",
    "\n",
    "# obj1 = DummyClass()\n",
    "# obj2 = copy.deepcopy(obj1)\n",
    "# print(obj1 is obj2)"
   ]
  },
  {
   "cell_type": "markdown",
   "id": "31b94b34",
   "metadata": {
    "slideshow": {
     "slide_type": "subslide"
    }
   },
   "source": [
    "- Let us create a dummy class "
   ]
  },
  {
   "cell_type": "code",
   "execution_count": 70,
   "id": "90123c3a",
   "metadata": {
    "slideshow": {
     "slide_type": "-"
    }
   },
   "outputs": [],
   "source": [
    "class DummyClass:\n",
    "    def __init__(self):\n",
    "        self.dummy_value = 5"
   ]
  },
  {
   "cell_type": "markdown",
   "id": "5c7915b8",
   "metadata": {
    "slideshow": {
     "slide_type": "fragment"
    }
   },
   "source": [
    "- Let us create a shallow copy"
   ]
  },
  {
   "cell_type": "code",
   "execution_count": 71,
   "id": "a5db4ffe",
   "metadata": {
    "slideshow": {
     "slide_type": "-"
    }
   },
   "outputs": [
    {
     "name": "stdout",
     "output_type": "stream",
     "text": [
      "Before\n",
      "5\n",
      "5\n",
      "After\n",
      "10\n",
      "10\n"
     ]
    }
   ],
   "source": [
    "obj1 = DummyClass()\n",
    "obj2 = obj1\n",
    "\n",
    "print('Before')\n",
    "print(obj1.dummy_value)\n",
    "print(obj2.dummy_value)\n",
    "\n",
    "obj1.dummy_value = 10\n",
    "\n",
    "print('After')\n",
    "print(obj1.dummy_value)\n",
    "print(obj2.dummy_value)"
   ]
  },
  {
   "cell_type": "markdown",
   "id": "590645d7",
   "metadata": {
    "slideshow": {
     "slide_type": "fragment"
    }
   },
   "source": [
    "- Let us create a deep copy"
   ]
  },
  {
   "cell_type": "code",
   "execution_count": 72,
   "id": "b0b33a2f",
   "metadata": {
    "slideshow": {
     "slide_type": "-"
    }
   },
   "outputs": [
    {
     "name": "stdout",
     "output_type": "stream",
     "text": [
      "Before\n",
      "5\n",
      "5\n",
      "After\n",
      "10\n",
      "5\n"
     ]
    }
   ],
   "source": [
    "import copy\n",
    "\n",
    "obj1 = DummyClass()\n",
    "obj2 = copy.deepcopy(obj1)\n",
    "\n",
    "print('Before')\n",
    "print(obj1.dummy_value)\n",
    "print(obj2.dummy_value)\n",
    "\n",
    "obj1.dummy_value = 10\n",
    "\n",
    "print('After')\n",
    "print(obj1.dummy_value)\n",
    "print(obj2.dummy_value)"
   ]
  },
  {
   "cell_type": "markdown",
   "id": "501f2796",
   "metadata": {
    "slideshow": {
     "slide_type": "fragment"
    }
   },
   "source": [
    "- How the identity operator works"
   ]
  },
  {
   "cell_type": "code",
   "execution_count": 74,
   "id": "ab1228e6",
   "metadata": {
    "slideshow": {
     "slide_type": "-"
    }
   },
   "outputs": [
    {
     "name": "stdout",
     "output_type": "stream",
     "text": [
      "True\n",
      "\n",
      "\n"
     ]
    }
   ],
   "source": [
    "obj1 = DummyClass()\n",
    "obj2 = obj1\n",
    "\n",
    "print(obj1 is obj2)\n",
    "print()\n",
    "print()\n"
   ]
  },
  {
   "cell_type": "markdown",
   "id": "225b5bee",
   "metadata": {},
   "source": [
    "## Thank You"
   ]
  }
 ],
 "metadata": {
  "kernelspec": {
   "display_name": "Python 3 (ipykernel)",
   "language": "python",
   "name": "python3"
  },
  "language_info": {
   "codemirror_mode": {
    "name": "ipython",
    "version": 3
   },
   "file_extension": ".py",
   "mimetype": "text/x-python",
   "name": "python",
   "nbconvert_exporter": "python",
   "pygments_lexer": "ipython3",
   "version": "3.7.8"
  }
 },
 "nbformat": 4,
 "nbformat_minor": 5
}
