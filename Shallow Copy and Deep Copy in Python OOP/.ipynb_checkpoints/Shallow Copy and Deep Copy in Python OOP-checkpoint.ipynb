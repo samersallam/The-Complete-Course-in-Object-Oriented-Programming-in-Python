{
 "cells": [
  {
   "cell_type": "markdown",
   "metadata": {
    "slideshow": {
     "slide_type": "skip"
    }
   },
   "source": [
    "## Copy in OOP"
   ]
  },
  {
   "cell_type": "markdown",
   "metadata": {
    "slideshow": {
     "slide_type": "subslide"
    }
   },
   "source": [
    "- Let us create a dummy class "
   ]
  },
  {
   "cell_type": "code",
   "execution_count": 70,
   "metadata": {
    "slideshow": {
     "slide_type": "-"
    }
   },
   "outputs": [],
   "source": [
    "class DummyClass:\n",
    "    def __init__(self):\n",
    "        self.dummy_value = 5"
   ]
  },
  {
   "cell_type": "markdown",
   "metadata": {
    "slideshow": {
     "slide_type": "fragment"
    }
   },
   "source": [
    "- Let us create a shallow copy"
   ]
  },
  {
   "cell_type": "code",
   "execution_count": 71,
   "metadata": {
    "slideshow": {
     "slide_type": "-"
    }
   },
   "outputs": [
    {
     "name": "stdout",
     "output_type": "stream",
     "text": [
      "Before\n",
      "5\n",
      "5\n",
      "After\n",
      "10\n",
      "10\n"
     ]
    }
   ],
   "source": [
    "obj1 = DummyClass()\n",
    "obj2 = obj1\n",
    "\n",
    "print('Before')\n",
    "print(obj1.dummy_value)\n",
    "print(obj2.dummy_value)\n",
    "\n",
    "obj1.dummy_value = 10\n",
    "\n",
    "print('After')\n",
    "print(obj1.dummy_value)\n",
    "print(obj2.dummy_value)"
   ]
  },
  {
   "cell_type": "markdown",
   "metadata": {
    "slideshow": {
     "slide_type": "fragment"
    }
   },
   "source": [
    "- Let us create a deep copy"
   ]
  },
  {
   "cell_type": "code",
   "execution_count": 72,
   "metadata": {
    "slideshow": {
     "slide_type": "-"
    }
   },
   "outputs": [
    {
     "name": "stdout",
     "output_type": "stream",
     "text": [
      "Before\n",
      "5\n",
      "5\n",
      "After\n",
      "10\n",
      "5\n"
     ]
    }
   ],
   "source": [
    "import copy\n",
    "\n",
    "obj1 = DummyClass()\n",
    "obj2 = copy.deepcopy(obj1)\n",
    "\n",
    "print('Before')\n",
    "print(obj1.dummy_value)\n",
    "print(obj2.dummy_value)\n",
    "\n",
    "obj1.dummy_value = 10\n",
    "\n",
    "print('After')\n",
    "print(obj1.dummy_value)\n",
    "print(obj2.dummy_value)"
   ]
  },
  {
   "cell_type": "markdown",
   "metadata": {
    "slideshow": {
     "slide_type": "fragment"
    }
   },
   "source": [
    "- How the identity operator works"
   ]
  },
  {
   "cell_type": "code",
   "execution_count": 74,
   "metadata": {
    "slideshow": {
     "slide_type": "-"
    }
   },
   "outputs": [
    {
     "name": "stdout",
     "output_type": "stream",
     "text": [
      "True\n",
      "\n",
      "\n"
     ]
    }
   ],
   "source": [
    "obj1 = DummyClass()\n",
    "obj2 = obj1\n",
    "\n",
    "print(obj1 is obj2)\n",
    "print()\n",
    "print()\n"
   ]
  },
  {
   "cell_type": "markdown",
   "metadata": {},
   "source": [
    "### Thank You"
   ]
  }
 ],
 "metadata": {
  "kernelspec": {
   "display_name": "Python 3",
   "language": "python",
   "name": "python3"
  },
  "language_info": {
   "codemirror_mode": {
    "name": "ipython",
    "version": 3
   },
   "file_extension": ".py",
   "mimetype": "text/x-python",
   "name": "python",
   "nbconvert_exporter": "python",
   "pygments_lexer": "ipython3",
   "version": "3.7.1"
  }
 },
 "nbformat": 4,
 "nbformat_minor": 4
}
