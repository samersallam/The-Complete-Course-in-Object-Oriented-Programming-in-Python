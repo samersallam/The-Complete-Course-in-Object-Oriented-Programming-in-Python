{
 "cells": [
  {
   "cell_type": "markdown",
   "metadata": {
    "slideshow": {
     "slide_type": "skip"
    }
   },
   "source": [
    "## Dependency Inversion Principle (DIP)"
   ]
  },
  {
   "cell_type": "markdown",
   "metadata": {
    "slideshow": {
     "slide_type": "slide"
    }
   },
   "source": [
    "* Let us create the OnlineStore class with violating DIP principle"
   ]
  },
  {
   "cell_type": "code",
   "execution_count": null,
   "metadata": {},
   "outputs": [],
   "source": [
    "class OnlineStore:\n",
    "    def __init__(self, database):\n",
    "        self.database = database\n",
    "    \n",
    "    def add_product(self, product):\n",
    "        self.database.append(product)\n",
    "    \n",
    "    def get_product(self, product_id):\n",
    "        return self.database[product_id]\n",
    "    \n",
    "    def delete_product(self, product_id):\n",
    "        del self.database[product_id]\n",
    "    \n",
    "    def show_all_products(self):\n",
    "        print()\n",
    "        for prod in self.database:\n",
    "            print(prod)"
   ]
  },
  {
   "cell_type": "markdown",
   "metadata": {
    "slideshow": {
     "slide_type": "slide"
    }
   },
   "source": [
    "* Let us fix the problem"
   ]
  },
  {
   "cell_type": "code",
   "execution_count": 22,
   "metadata": {},
   "outputs": [],
   "source": [
    "from abc import ABCMeta, abstractmethod\n",
    "\n",
    "class DatabaseInterface(metaclass=ABCMeta):\n",
    "    @abstractmethod\n",
    "    def add_product(self, product):\n",
    "        pass\n",
    "    \n",
    "    @abstractmethod\n",
    "    def get_product(self, product_id):\n",
    "        pass\n",
    "    \n",
    "    @abstractmethod\n",
    "    def delete_product(self, product_id):\n",
    "        pass\n",
    "    \n",
    "    @abstractmethod\n",
    "    def show_all_products(self):\n",
    "        pass\n",
    "\n",
    "    \n",
    "class ListDatabase(DatabaseInterface):\n",
    "    def __init__(self):\n",
    "        self.database = list()\n",
    "\n",
    "    def add_product(self, product):\n",
    "        self.database.append(product)\n",
    "    \n",
    "    def get_product(self, product_id):\n",
    "        return self.database[product_id]\n",
    "    \n",
    "    def delete_product(self, product_id):\n",
    "        del self.database[product_id]\n",
    "    \n",
    "    def show_all_products(self):\n",
    "        print()\n",
    "        for prod in self.database:\n",
    "            print(prod)\n",
    "            \n",
    "            \n",
    "class OnlineStore:\n",
    "    def __init__(self, database):\n",
    "        self.database = database\n",
    "\n",
    "    def add_product(self, product):\n",
    "        self.database.add_product(product)\n",
    "    \n",
    "    def get_product(self, product_id):\n",
    "        return self.database.get_product(product_id)\n",
    "    \n",
    "    def delete_product(self, product_id):\n",
    "        self.database.delete_product(product_id)\n",
    "    \n",
    "    def show_all_products(self):\n",
    "        self.database.show_all_products()\n",
    "            \n",
    "    \n",
    "    \n",
    "class SQLDatabase(DatabaseInterface):\n",
    "    pass\n",
    "\n",
    "\n",
    "class MongoDatabase(DatabaseInterface):\n",
    "    pass"
   ]
  },
  {
   "cell_type": "markdown",
   "metadata": {
    "slideshow": {
     "slide_type": "skip"
    }
   },
   "source": [
    "### Thank You"
   ]
  }
 ],
 "metadata": {
  "kernelspec": {
   "display_name": "Python 3",
   "language": "python",
   "name": "python3"
  },
  "language_info": {
   "codemirror_mode": {
    "name": "ipython",
    "version": 3
   },
   "file_extension": ".py",
   "mimetype": "text/x-python",
   "name": "python",
   "nbconvert_exporter": "python",
   "pygments_lexer": "ipython3",
   "version": "3.7.1"
  }
 },
 "nbformat": 4,
 "nbformat_minor": 4
}
