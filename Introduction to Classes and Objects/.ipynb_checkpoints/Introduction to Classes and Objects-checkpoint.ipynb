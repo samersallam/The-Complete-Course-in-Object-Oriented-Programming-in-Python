{
 "cells": [
  {
   "cell_type": "markdown",
   "id": "993a5b7c",
   "metadata": {
    "slideshow": {
     "slide_type": "skip"
    }
   },
   "source": [
    "## Introduction to Classes and Objects"
   ]
  },
  {
   "cell_type": "code",
   "execution_count": 1,
   "id": "5d693e5b",
   "metadata": {
    "slideshow": {
     "slide_type": "skip"
    }
   },
   "outputs": [
    {
     "name": "stdout",
     "output_type": "stream",
     "text": [
      "<class '__main__.Student'>\n"
     ]
    }
   ],
   "source": [
    "# Example 1\n",
    "\n",
    "class Student:\n",
    "    pass\n",
    "\n",
    "student = Student()\n",
    "\n",
    "print(type(student))"
   ]
  },
  {
   "cell_type": "markdown",
   "id": "5e8715fd",
   "metadata": {
    "slideshow": {
     "slide_type": "subslide"
    }
   },
   "source": [
    "- How to create a class and how to name a class"
   ]
  },
  {
   "cell_type": "code",
   "execution_count": 2,
   "id": "03a90efc",
   "metadata": {},
   "outputs": [],
   "source": [
    "class Student:\n",
    "    pass"
   ]
  },
  {
   "cell_type": "markdown",
   "id": "37e49ff2",
   "metadata": {
    "slideshow": {
     "slide_type": "fragment"
    }
   },
   "source": [
    "- How to create an object from the class and how to name an object"
   ]
  },
  {
   "cell_type": "code",
   "execution_count": 3,
   "id": "3fb8d0f6",
   "metadata": {},
   "outputs": [],
   "source": [
    "new_student = Student()"
   ]
  },
  {
   "cell_type": "markdown",
   "id": "555e0c94",
   "metadata": {
    "slideshow": {
     "slide_type": "fragment"
    }
   },
   "source": [
    "- How to check the object type\n"
   ]
  },
  {
   "cell_type": "code",
   "execution_count": 4,
   "id": "72cbfcc9",
   "metadata": {},
   "outputs": [
    {
     "name": "stdout",
     "output_type": "stream",
     "text": [
      "<class '__main__.Student'>\n"
     ]
    }
   ],
   "source": [
    "print(type(new_student))"
   ]
  },
  {
   "cell_type": "markdown",
   "id": "ed823496",
   "metadata": {
    "slideshow": {
     "slide_type": "subslide"
    }
   },
   "source": [
    "- Another Example "
   ]
  },
  {
   "cell_type": "code",
   "execution_count": 5,
   "id": "c5d4f697",
   "metadata": {
    "slideshow": {
     "slide_type": "-"
    }
   },
   "outputs": [
    {
     "name": "stdout",
     "output_type": "stream",
     "text": [
      "<class '__main__.School'>\n"
     ]
    }
   ],
   "source": [
    "class School:\n",
    "    pass\n",
    "\n",
    "school = School()\n",
    "print(type(school))"
   ]
  },
  {
   "cell_type": "markdown",
   "id": "960afd73",
   "metadata": {},
   "source": [
    "## End of Examples"
   ]
  }
 ],
 "metadata": {
  "kernelspec": {
   "display_name": "Python 3 (ipykernel)",
   "language": "python",
   "name": "python3"
  },
  "language_info": {
   "codemirror_mode": {
    "name": "ipython",
    "version": 3
   },
   "file_extension": ".py",
   "mimetype": "text/x-python",
   "name": "python",
   "nbconvert_exporter": "python",
   "pygments_lexer": "ipython3",
   "version": "3.7.8"
  }
 },
 "nbformat": 4,
 "nbformat_minor": 5
}
