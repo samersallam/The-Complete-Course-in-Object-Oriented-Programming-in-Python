{
 "cells": [
  {
   "cell_type": "markdown",
   "metadata": {
    "slideshow": {
     "slide_type": "skip"
    }
   },
   "source": [
    "## Composition Relationship"
   ]
  },
  {
   "cell_type": "markdown",
   "metadata": {
    "slideshow": {
     "slide_type": "slide"
    }
   },
   "source": [
    "* Let us create the component class"
   ]
  },
  {
   "cell_type": "code",
   "execution_count": 1,
   "metadata": {},
   "outputs": [
    {
     "name": "stdout",
     "output_type": "stream",
     "text": [
      "Name : John Doe\n",
      "Age : 35\n"
     ]
    }
   ],
   "source": [
    "class Client:\n",
    "    def __init__(self, first_name, last_name, age):\n",
    "        self.first_name = first_name\n",
    "        self.last_name = last_name\n",
    "        self.age = age\n",
    "    \n",
    "    def get_details(self):\n",
    "        print(f'Name : {self.first_name} {self.last_name}\\nAge : {self.age}')\n",
    "\n",
    "cl = Client('John', 'Doe', 35)\n",
    "cl.get_details()"
   ]
  },
  {
   "cell_type": "markdown",
   "metadata": {
    "slideshow": {
     "slide_type": "fragment"
    }
   },
   "source": [
    "* Let us create the composite class"
   ]
  },
  {
   "cell_type": "code",
   "execution_count": 2,
   "metadata": {},
   "outputs": [
    {
     "name": "stdout",
     "output_type": "stream",
     "text": [
      "Account Type: Personal\n",
      "Account Number: 10000012\n",
      "Account Holder : \n",
      "Name : John Doe\n",
      "Age : 35\n",
      "\n"
     ]
    }
   ],
   "source": [
    "class BankAccount:\n",
    "    def __init__(self, first_name, last_name, age, account_number, account_type):\n",
    "        self.client = Client(first_name, last_name, age)\n",
    "        self.account_number = account_number\n",
    "        self.account_type = account_type\n",
    "        \n",
    "    def get_details(self):\n",
    "        print(f'Account Type: {self.account_type}')\n",
    "        print(f'Account Number: {self.account_number}')\n",
    "        print('Account Holder : ')\n",
    "        self.client.get_details()\n",
    "\n",
    "ba = BankAccount('John', 'Doe', 35, 10000012, 'Personal')\n",
    "ba.get_details()\n",
    "print()"
   ]
  },
  {
   "cell_type": "markdown",
   "metadata": {
    "slideshow": {
     "slide_type": "slide"
    }
   },
   "source": [
    "* The best practice when we expect to change the component class is to keep the instantiation process out of the composite class"
   ]
  },
  {
   "cell_type": "code",
   "execution_count": 3,
   "metadata": {},
   "outputs": [
    {
     "name": "stdout",
     "output_type": "stream",
     "text": [
      "Name : John Doe\n",
      "Age : 35\n",
      "Account Type: Business\n",
      "Account Number: 100012\n",
      "Account Holder : \n",
      "Name : John Doe\n",
      "Age : 35\n"
     ]
    }
   ],
   "source": [
    "class Client:\n",
    "    def __init__(self, first_name, last_name, age):\n",
    "        self.first_name = first_name\n",
    "        self.last_name = last_name\n",
    "        self.age = age\n",
    "    \n",
    "    def get_details(self):\n",
    "        print(f'Name : {self.first_name} {self.last_name}\\nAge : {self.age}')\n",
    "\n",
    "\n",
    "class BankAccount:\n",
    "    def __init__(self, client_obj, account_number, account_type):\n",
    "        self.client = client_obj\n",
    "        self.account_number = account_number\n",
    "        self.account_type = account_type\n",
    "        \n",
    "    def get_details(self):\n",
    "        print(f'Account Type: {self.account_type}')\n",
    "        print(f'Account Number: {self.account_number}')\n",
    "        print('Account Holder : ')\n",
    "        self.client.get_details()\n",
    "\n",
    "        \n",
    "clt = Client('John', 'Doe', 35)\n",
    "clt.get_details()\n",
    "bank_acct = BankAccount(clt, 100012, 'Business')\n",
    "bank_acct.get_details()"
   ]
  },
  {
   "cell_type": "code",
   "execution_count": 27,
   "metadata": {
    "slideshow": {
     "slide_type": "skip"
    }
   },
   "outputs": [],
   "source": [
    "# Composition Relationship Summary\n",
    "# add onedrive link here"
   ]
  },
  {
   "cell_type": "markdown",
   "metadata": {
    "slideshow": {
     "slide_type": "skip"
    }
   },
   "source": [
    "### Thank You"
   ]
  }
 ],
 "metadata": {
  "kernelspec": {
   "display_name": "Python 3",
   "language": "python",
   "name": "python3"
  },
  "language_info": {
   "codemirror_mode": {
    "name": "ipython",
    "version": 3
   },
   "file_extension": ".py",
   "mimetype": "text/x-python",
   "name": "python",
   "nbconvert_exporter": "python",
   "pygments_lexer": "ipython3",
   "version": "3.7.1"
  }
 },
 "nbformat": 4,
 "nbformat_minor": 4
}
