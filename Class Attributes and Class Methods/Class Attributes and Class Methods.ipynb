{
 "cells": [
  {
   "cell_type": "markdown",
   "id": "6299caf1",
   "metadata": {
    "slideshow": {
     "slide_type": "skip"
    }
   },
   "source": [
    "## Class Attributes and Class Methods"
   ]
  },
  {
   "cell_type": "code",
   "execution_count": 15,
   "id": "5d1ff9a4",
   "metadata": {
    "slideshow": {
     "slide_type": "skip"
    }
   },
   "outputs": [],
   "source": [
    "# Class Attributes and Class Methods\n",
    "\n",
    "from datetime import datetime\n",
    "\n",
    "class Student:\n",
    "    \n",
    "    num_undergraduates = 0\n",
    "    num_postgraduates = 0  \n",
    "    \n",
    "    undergraduates_age_range = range(19, 24)\n",
    "    postgraduates_age_range = range(24, 30)\n",
    "    \n",
    "    def __init__(self, student_id, first_name, last_name, age):\n",
    "        self.id = student_id\n",
    "        self.first_name = first_name\n",
    "        self.last_name = last_name\n",
    "        self.full_name = first_name + \" \" + last_name\n",
    "        self.age = age\n",
    "        self.classes = []\n",
    "        \n",
    "        if self.age in Student.undergraduates_age_range:\n",
    "#             self.num_undergraduates += 1\n",
    "            Student.num_undergraduates += 1\n",
    "        \n",
    "        elif self.age in Student.postgraduates_age_range:\n",
    "#             self.num_postgraduates += 1\n",
    "            Student.num_postgraduates += 1\n",
    "        else:\n",
    "            raise Exception('Invalid Age !!')\n",
    "    \n",
    "    def enrol(self, class_name):\n",
    "        self.classes.append(class_name)\n",
    "    \n",
    "    @classmethod\n",
    "    def get_undergraduates_percentage(cls):\n",
    "        \n",
    "        num_students = cls.num_undergraduates + cls.num_postgraduates\n",
    "        per = cls.num_postgraduates / num_students\n",
    "        \n",
    "        return per\n",
    "    \n",
    "    @classmethod\n",
    "    def create_student_from_birthday(cls, student_id, first_name, last_name, birthday):\n",
    "        # Class method is used here as an alternative constructor\n",
    "        age = round((datetime.now() - birthday).days / 365)\n",
    "        return cls(student_id, first_name, last_name, age)\n",
    "    \n",
    "# student1 = Student(1, 'Jack', 'Ma', 23)  # Undergraduate\n",
    "# student2 = Student(19, 'John', 'Doe', 27) # Graduate\n",
    "# print(Student.num_undergraduates)\n",
    "# print(Student.num_postgraduates)\n",
    "\n",
    "# undergraduates_percentage = Student.get_undergraduates_percentage()\n",
    "# print(undergraduates_percentage)\n",
    "\n",
    "# student = Student.create_student_from_birthday(1, 'Jack', 'Ma', datetime(1992, 5,30))\n",
    "# print(type(student))\n",
    "# print_student(student)"
   ]
  },
  {
   "cell_type": "markdown",
   "id": "f718b995",
   "metadata": {
    "slideshow": {
     "slide_type": "subslide"
    }
   },
   "source": [
    "- How to create a class attribute and how to name it"
   ]
  },
  {
   "cell_type": "code",
   "execution_count": 60,
   "id": "c5594102",
   "metadata": {},
   "outputs": [
    {
     "name": "stdout",
     "output_type": "stream",
     "text": [
      "1\n"
     ]
    }
   ],
   "source": [
    "class Student:\n",
    "    \n",
    "    num_undergraduates = 0\n",
    "    num_postgraduates = 0 \n",
    "    \n",
    "    undergraduates_age_range = range(19, 24)\n",
    "    postgraduates_age_range = range(24, 30)\n",
    "    \n",
    "    def __init__(self, _id, first_name, last_name, age):\n",
    "        self.id = _id\n",
    "        self.first_name = first_name\n",
    "        self.last_name = last_name\n",
    "        self.full_name = self.first_name + \" \" + self.last_name\n",
    "        self.age = age\n",
    "        \n",
    "        if self.age in Student.undergraduates_age_range:\n",
    "#             Student.num_undergraduates += 1\n",
    "            self.num_undergraduates += 1\n",
    "        \n",
    "        elif self.age in Student.postgraduates_age_range:\n",
    "#             Student.num_postgraduates += 1\n",
    "            self.num_postgraduates += 1\n",
    "        \n",
    "        else:\n",
    "            raise Exception('Invalid Age')\n",
    "        \n",
    "        \n",
    "        \n",
    "        self.classes = []\n",
    "    \n",
    "    def enrol(self, class_name):\n",
    "        print(self.full_name)\n",
    "        self.classes.append(class_name)\n",
    "    \n",
    "# print(Student.num_undergraduates)\n",
    "# print(Student.num_postgraduates)\n",
    "# student1 = Student(1, 'Jack', 'Ma', 23)  # Undergraduate\n",
    "# student2 = Student(19, 'John', 'Doe', 27) # Graduate\n",
    "# print(Student.num_undergraduates)\n",
    "# print(Student.num_postgraduates)\n",
    "student1 = Student(1, 'Jack', 'Ma', 23)\n",
    "print(student1.num_undergraduates)"
   ]
  },
  {
   "cell_type": "markdown",
   "id": "8bd20310",
   "metadata": {
    "slideshow": {
     "slide_type": "fragment"
    }
   },
   "source": [
    "- How to use a class attribute within __init__ / instance method"
   ]
  },
  {
   "cell_type": "code",
   "execution_count": null,
   "id": "b974e21d",
   "metadata": {},
   "outputs": [],
   "source": []
  },
  {
   "cell_type": "markdown",
   "id": "a12d0c41",
   "metadata": {
    "slideshow": {
     "slide_type": "subslide"
    }
   },
   "source": [
    "- How to define a class method and how to name it"
   ]
  },
  {
   "cell_type": "code",
   "execution_count": 63,
   "id": "35d2bdc0",
   "metadata": {},
   "outputs": [],
   "source": [
    "from datetime import datetime\n",
    "\n",
    "class Student:\n",
    "    \n",
    "    num_undergraduates = 0\n",
    "    num_postgraduates = 0 \n",
    "    \n",
    "    undergraduates_age_range = range(19, 24)\n",
    "    postgraduates_age_range = range(24, 30)\n",
    "    \n",
    "    def __init__(self, _id, first_name, last_name, age):\n",
    "        self.id = _id\n",
    "        self.first_name = first_name\n",
    "        self.last_name = last_name\n",
    "        self.full_name = self.first_name + \" \" + self.last_name\n",
    "        self.age = age\n",
    "        \n",
    "        if self.age in Student.undergraduates_age_range:\n",
    "            Student.num_undergraduates += 1\n",
    "        \n",
    "        elif self.age in Student.postgraduates_age_range:\n",
    "            Student.num_postgraduates += 1\n",
    "            \n",
    "        else:\n",
    "            raise Exception('Invalid Age')\n",
    "        \n",
    "        self.classes = []\n",
    "    \n",
    "    def enrol(self, class_name):\n",
    "        print(self.full_name)\n",
    "        self.classes.append(class_name)\n",
    "    \n",
    "    @classmethod\n",
    "    def get_undergraduates_percentage(cls):\n",
    "        num_students = cls.num_undergraduates + cls.num_postgraduates\n",
    "        \n",
    "        return cls.num_undergraduates / num_students\n",
    "    \n",
    "    @classmethod\n",
    "    def create_student_from_birthday(cls, student_id, first_name, last_name, \n",
    "                                     birthday):\n",
    "        # Class method is used here as an alternative constructor\n",
    "        age = round((datetime.now() - birthday).days / 365)\n",
    "        return cls(student_id, first_name, last_name, age)"
   ]
  },
  {
   "cell_type": "markdown",
   "id": "085ea4b3",
   "metadata": {
    "slideshow": {
     "slide_type": "fragment"
    }
   },
   "source": [
    "- How to call a class method"
   ]
  },
  {
   "cell_type": "code",
   "execution_count": 62,
   "id": "0388db91",
   "metadata": {},
   "outputs": [
    {
     "data": {
      "text/plain": [
       "0.5"
      ]
     },
     "execution_count": 62,
     "metadata": {},
     "output_type": "execute_result"
    }
   ],
   "source": [
    "student1 = Student(1, 'Jack', 'Ma', 23)  # Undergraduate\n",
    "student2 = Student(19, 'John', 'Doe', 27) # Graduate\n",
    "\n",
    "Student.get_undergraduates_percentage()"
   ]
  },
  {
   "cell_type": "markdown",
   "id": "40e1acff",
   "metadata": {
    "slideshow": {
     "slide_type": "fragment"
    }
   },
   "source": [
    "- How to use a class method as an alternative constructor"
   ]
  },
  {
   "cell_type": "code",
   "execution_count": 65,
   "id": "683aa748",
   "metadata": {},
   "outputs": [
    {
     "name": "stdout",
     "output_type": "stream",
     "text": [
      "<class '__main__.Student'>\n",
      "Jack Ma\n",
      "\n"
     ]
    }
   ],
   "source": [
    "student = Student.create_student_from_birthday(1, 'Jack', 'Ma', datetime(1992, 5,30))\n",
    "print(type(student))\n",
    "print(student.full_name)\n",
    "print()"
   ]
  },
  {
   "cell_type": "markdown",
   "id": "d3ffdf03",
   "metadata": {},
   "source": [
    "### Thank You"
   ]
  }
 ],
 "metadata": {
  "kernelspec": {
   "display_name": "Python 3 (ipykernel)",
   "language": "python",
   "name": "python3"
  },
  "language_info": {
   "codemirror_mode": {
    "name": "ipython",
    "version": 3
   },
   "file_extension": ".py",
   "mimetype": "text/x-python",
   "name": "python",
   "nbconvert_exporter": "python",
   "pygments_lexer": "ipython3",
   "version": "3.7.8"
  }
 },
 "nbformat": 4,
 "nbformat_minor": 5
}
