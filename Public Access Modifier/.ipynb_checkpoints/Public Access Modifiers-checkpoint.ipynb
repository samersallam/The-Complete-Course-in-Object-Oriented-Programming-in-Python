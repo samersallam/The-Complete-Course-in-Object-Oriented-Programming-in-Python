{
 "cells": [
  {
   "cell_type": "markdown",
   "metadata": {
    "slideshow": {
     "slide_type": "skip"
    }
   },
   "source": [
    "## Public Access Modifiers"
   ]
  },
  {
   "cell_type": "code",
   "execution_count": 81,
   "metadata": {
    "slideshow": {
     "slide_type": "skip"
    }
   },
   "outputs": [],
   "source": [
    "class Parent:\n",
    "    def __init__(self):\n",
    "        self.parent_public_attribute = 10\n",
    "    \n",
    "    def parent_public_method(self):\n",
    "        self.parent_public_attribute = self.parent_public_attribute * 2\n",
    "\n",
    "        \n",
    "class Child(Parent):\n",
    "    def __init__(self):\n",
    "        super().__init__()\n",
    "        self.child_public_attribute = 15\n",
    "    \n",
    "    def child_public_method(self):\n",
    "        self.child_public_attribute = self.child_public_attribute * 2\n",
    "    \n",
    "    def print_parent_public_method(self):\n",
    "        print(self.parent_public_attribute)\n",
    "    \n",
    "# Get public attributes\n",
    "# parent_obj = Parent()\n",
    "# print(parent_obj.parent_public_attribute)\n",
    "\n",
    "# child_obj = Child()\n",
    "# print(child_obj.child_public_attribute)\n",
    "\n",
    "# Set public attributes\n",
    "# parent_obj = Parent()\n",
    "# parent_obj.parent_public_attribute = 25\n",
    "# print(parent_obj.parent_public_attribute)\n",
    "\n",
    "# child_obj = Child()\n",
    "# child_obj.child_public_attribute = 35\n",
    "# print(child_obj.child_public_attribute)\n",
    "\n",
    "# Call public methods\n",
    "# parent_obj = Parent()\n",
    "# parent_obj.parent_public_method()\n",
    "# print(parent_obj.parent_public_attribute)\n",
    "\n",
    "# child_obj = Child()\n",
    "# child_obj.child_public_method()\n",
    "# print(child_obj.child_public_attribute)\n",
    "# child_obj.print_parent_public_method()"
   ]
  },
  {
   "cell_type": "markdown",
   "metadata": {
    "slideshow": {
     "slide_type": "slide"
    }
   },
   "source": [
    "- Public Access Modifier (By default everything is public) (Accessible inside and outside class scope)"
   ]
  },
  {
   "cell_type": "code",
   "execution_count": 10,
   "metadata": {},
   "outputs": [],
   "source": [
    "class Parent:\n",
    "    def __init__(self):\n",
    "        self.parent_public_attribute = 10\n",
    "    \n",
    "    def parent_public_method(self):\n",
    "        self.parent_public_attribute = self.parent_public_attribute * 2\n",
    "\n",
    "class Child(Parent):\n",
    "    def __init__(self):\n",
    "        super().__init__()\n",
    "        self.child_public_attribute = 15\n",
    "    \n",
    "    def child_public_method(self):\n",
    "        self.child_public_attribute = self.child_public_attribute * 2\n",
    "    \n",
    "    def print_parent_public_method(self):\n",
    "        print(self.parent_public_attribute)"
   ]
  },
  {
   "cell_type": "markdown",
   "metadata": {
    "slideshow": {
     "slide_type": "fragment"
    }
   },
   "source": [
    "- How to get a public instance attribute"
   ]
  },
  {
   "cell_type": "code",
   "execution_count": 14,
   "metadata": {},
   "outputs": [
    {
     "name": "stdout",
     "output_type": "stream",
     "text": [
      "10\n",
      "15\n",
      "10\n"
     ]
    }
   ],
   "source": [
    "parent = Parent()\n",
    "print(parent.parent_public_attribute)\n",
    "\n",
    "child = Child()\n",
    "print(child.child_public_attribute)\n",
    "\n",
    "child.print_parent_public_method()"
   ]
  },
  {
   "cell_type": "markdown",
   "metadata": {
    "slideshow": {
     "slide_type": "fragment"
    }
   },
   "source": [
    "- How to set a public instance attribute (CAUTION: DO NOT DO THAT)"
   ]
  },
  {
   "cell_type": "code",
   "execution_count": 15,
   "metadata": {},
   "outputs": [
    {
     "name": "stdout",
     "output_type": "stream",
     "text": [
      "25\n"
     ]
    }
   ],
   "source": [
    "parent = Parent()\n",
    "parent.parent_public_attribute = 25\n",
    "print(parent.parent_public_attribute)"
   ]
  },
  {
   "cell_type": "markdown",
   "metadata": {
    "slideshow": {
     "slide_type": "fragment"
    }
   },
   "source": [
    "- How to call a public instance method"
   ]
  },
  {
   "cell_type": "code",
   "execution_count": 18,
   "metadata": {},
   "outputs": [
    {
     "name": "stdout",
     "output_type": "stream",
     "text": [
      "20\n",
      "\n"
     ]
    }
   ],
   "source": [
    "parent = Parent()\n",
    "parent.parent_public_method()\n",
    "print(parent.parent_public_attribute)\n",
    "print()\n",
    "\n"
   ]
  },
  {
   "cell_type": "markdown",
   "metadata": {
    "slideshow": {
     "slide_type": "skip"
    }
   },
   "source": [
    "### Thank You"
   ]
  }
 ],
 "metadata": {
  "kernelspec": {
   "display_name": "Python 3",
   "language": "python",
   "name": "python3"
  },
  "language_info": {
   "codemirror_mode": {
    "name": "ipython",
    "version": 3
   },
   "file_extension": ".py",
   "mimetype": "text/x-python",
   "name": "python",
   "nbconvert_exporter": "python",
   "pygments_lexer": "ipython3",
   "version": "3.7.1"
  }
 },
 "nbformat": 4,
 "nbformat_minor": 4
}
