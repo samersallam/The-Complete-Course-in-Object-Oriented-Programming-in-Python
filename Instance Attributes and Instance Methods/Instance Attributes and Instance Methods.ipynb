{
 "cells": [
  {
   "cell_type": "markdown",
   "id": "6253c1e7",
   "metadata": {
    "slideshow": {
     "slide_type": "skip"
    }
   },
   "source": [
    "## Instance Attributes and Instance Methods"
   ]
  },
  {
   "cell_type": "code",
   "execution_count": 12,
   "id": "c57e3d3c",
   "metadata": {
    "slideshow": {
     "slide_type": "skip"
    }
   },
   "outputs": [],
   "source": [
    "# Instance Attributes and Instance Methods\n",
    "class Student:\n",
    "#     def __init__(self):\n",
    "#         self.id = None\n",
    "#         self.first_name = ''\n",
    "#         self.last_name = ''\n",
    "#         self.full_name = first_name + \" \" + last_name\n",
    "#         self.age = None\n",
    "#         self.classes = []\n",
    "    \n",
    "    def __init__(self, student_id, first_name, last_name, age):\n",
    "        self.id = student_id\n",
    "        self.first_name = first_name\n",
    "        self.last_name = last_name\n",
    "        self.full_name = first_name + \" \" + last_name\n",
    "        self.age = age\n",
    "        self.classes = []\n",
    "    \n",
    "    def enrol(self, class_name):\n",
    "        self.classes.append(class_name)\n",
    "\n",
    "\n",
    "def print_student(student_obj):\n",
    "    print(student_obj.id)\n",
    "    print(student_obj.full_name)\n",
    "    print(student_obj.age)\n",
    "    \n",
    "# student1 = Student(1, \"Jack\", \"Ma\", 23)\n",
    "# print_student(student1)\n",
    "\n",
    "# student2 = Student(2, \"John\", \"Doe\", 22)\n",
    "# print_student(student2)\n",
    "\n",
    "# student3 = Student(1, \"James\", \"Doe\", 23)\n",
    "# print(student3.classes)\n",
    "# student3.enrol('Mathematics')\n",
    "# print(student3.classes)"
   ]
  },
  {
   "cell_type": "markdown",
   "id": "34482b9d",
   "metadata": {
    "slideshow": {
     "slide_type": "subslide"
    }
   },
   "source": [
    "- How to create __ init __, why we need it, and when it is called"
   ]
  },
  {
   "cell_type": "code",
   "execution_count": 30,
   "id": "b03a7454",
   "metadata": {},
   "outputs": [
    {
     "name": "stdout",
     "output_type": "stream",
     "text": [
      "Hi I am a new object\n",
      "<class '__main__.Student'>\n"
     ]
    }
   ],
   "source": [
    "class Student:\n",
    "    def __init__(self):\n",
    "        print('Hi I am a new object')\n",
    "        print(type(self))\n",
    "\n",
    "new_student = Student()"
   ]
  },
  {
   "cell_type": "markdown",
   "id": "15f2e659",
   "metadata": {
    "slideshow": {
     "slide_type": "fragment"
    }
   },
   "source": [
    "- How to create an instance attribute and how to name it"
   ]
  },
  {
   "cell_type": "code",
   "execution_count": 34,
   "id": "ccc603d3",
   "metadata": {},
   "outputs": [
    {
     "name": "stdout",
     "output_type": "stream",
     "text": [
      "None\n"
     ]
    },
    {
     "ename": "AttributeError",
     "evalue": "'Student' object has no attribute 'id2'",
     "output_type": "error",
     "traceback": [
      "\u001b[1;31m---------------------------------------------------------------------------\u001b[0m",
      "\u001b[1;31mAttributeError\u001b[0m                            Traceback (most recent call last)",
      "\u001b[1;32m<ipython-input-34-1c55b9093afe>\u001b[0m in \u001b[0;36m<module>\u001b[1;34m\u001b[0m\n\u001b[0;32m     10\u001b[0m \u001b[0mnew_student\u001b[0m \u001b[1;33m=\u001b[0m \u001b[0mStudent\u001b[0m\u001b[1;33m(\u001b[0m\u001b[1;33m)\u001b[0m\u001b[1;33m\u001b[0m\u001b[1;33m\u001b[0m\u001b[0m\n\u001b[0;32m     11\u001b[0m \u001b[0mprint\u001b[0m\u001b[1;33m(\u001b[0m\u001b[0mnew_student\u001b[0m\u001b[1;33m.\u001b[0m\u001b[0mid\u001b[0m\u001b[1;33m)\u001b[0m\u001b[1;33m\u001b[0m\u001b[1;33m\u001b[0m\u001b[0m\n\u001b[1;32m---> 12\u001b[1;33m \u001b[0mprint\u001b[0m\u001b[1;33m(\u001b[0m\u001b[0mnew_student\u001b[0m\u001b[1;33m.\u001b[0m\u001b[0mid2\u001b[0m\u001b[1;33m)\u001b[0m\u001b[1;33m\u001b[0m\u001b[1;33m\u001b[0m\u001b[0m\n\u001b[0m",
      "\u001b[1;31mAttributeError\u001b[0m: 'Student' object has no attribute 'id2'"
     ]
    }
   ],
   "source": [
    "class Student:\n",
    "    def __init__(self):\n",
    "        self.id = None\n",
    "        self.first_name = ''\n",
    "        self.last_name = ''\n",
    "        self.full_name = self.first_name + \" \" + self.last_name\n",
    "        self.age = None\n",
    "        self.classes = []\n",
    "\n",
    "new_student = Student()\n",
    "print(new_student.id)\n",
    "print(new_student.id2)"
   ]
  },
  {
   "cell_type": "markdown",
   "id": "9df81cca",
   "metadata": {
    "slideshow": {
     "slide_type": "fragment"
    }
   },
   "source": [
    "- How to pass initial values to the instance attributes"
   ]
  },
  {
   "cell_type": "code",
   "execution_count": 38,
   "id": "d9997747",
   "metadata": {},
   "outputs": [
    {
     "name": "stdout",
     "output_type": "stream",
     "text": [
      "1\n",
      "Jack Ma\n",
      "25\n"
     ]
    }
   ],
   "source": [
    "class Student:\n",
    "    def __init__(self, _id, first_name, last_name, age):\n",
    "        self.id = _id\n",
    "        self.first_name = first_name\n",
    "        self.last_name = last_name\n",
    "        self.full_name = self.first_name + \" \" + self.last_name\n",
    "        self.age = age\n",
    "        self.classes = []\n",
    "        \n",
    "new_student = Student(1, 'Jack', 'Ma', 25)\n",
    "print(new_student.id)\n",
    "print(new_student.full_name)\n",
    "print(new_student.age)"
   ]
  },
  {
   "cell_type": "markdown",
   "id": "8567d7c0",
   "metadata": {
    "slideshow": {
     "slide_type": "fragment"
    }
   },
   "source": [
    "- Let us see the special attribute __ dict __"
   ]
  },
  {
   "cell_type": "code",
   "execution_count": 39,
   "id": "f918fe7c",
   "metadata": {},
   "outputs": [
    {
     "data": {
      "text/plain": [
       "{'id': 1,\n",
       " 'first_name': 'Jack',\n",
       " 'last_name': 'Ma',\n",
       " 'full_name': 'Jack Ma',\n",
       " 'age': 25,\n",
       " 'classes': []}"
      ]
     },
     "execution_count": 39,
     "metadata": {},
     "output_type": "execute_result"
    }
   ],
   "source": [
    "new_student.__dict__"
   ]
  },
  {
   "cell_type": "markdown",
   "id": "5a7eb8ca",
   "metadata": {
    "slideshow": {
     "slide_type": "fragment"
    }
   },
   "source": [
    "- vars() function"
   ]
  },
  {
   "cell_type": "code",
   "execution_count": 41,
   "id": "80405a56",
   "metadata": {},
   "outputs": [
    {
     "data": {
      "text/plain": [
       "{'id': 1,\n",
       " 'first_name': 'Jack',\n",
       " 'last_name': 'Ma',\n",
       " 'full_name': 'Jack Ma',\n",
       " 'age': 25,\n",
       " 'classes': []}"
      ]
     },
     "execution_count": 41,
     "metadata": {},
     "output_type": "execute_result"
    }
   ],
   "source": [
    "vars(new_student)"
   ]
  },
  {
   "cell_type": "markdown",
   "id": "c5233481",
   "metadata": {
    "slideshow": {
     "slide_type": "subslide"
    }
   },
   "source": [
    "- How to create an instance method and how to name it"
   ]
  },
  {
   "cell_type": "code",
   "execution_count": 45,
   "id": "6b400c49",
   "metadata": {
    "slideshow": {
     "slide_type": "-"
    }
   },
   "outputs": [],
   "source": [
    "class Student:\n",
    "    def __init__(self, _id, first_name, last_name, age):\n",
    "        self.id = _id\n",
    "        self.first_name = first_name\n",
    "        self.last_name = last_name\n",
    "        self.full_name = self.first_name + \" \" + self.last_name\n",
    "        self.age = age\n",
    "        self.classes = []\n",
    "    \n",
    "    def enrol(self, class_name):\n",
    "        print(self.full_name)\n",
    "        self.classes.append(class_name)\n",
    "\n",
    "new_student1 = Student(1, 'Jack', 'Ma', 25)\n",
    "new_student2 = Student(1, 'John', 'Doe', 25)"
   ]
  },
  {
   "cell_type": "markdown",
   "id": "70d33321",
   "metadata": {
    "slideshow": {
     "slide_type": "fragment"
    }
   },
   "source": [
    "- How to call the instance method"
   ]
  },
  {
   "cell_type": "code",
   "execution_count": 46,
   "id": "6d35104b",
   "metadata": {
    "slideshow": {
     "slide_type": "-"
    }
   },
   "outputs": [
    {
     "name": "stdout",
     "output_type": "stream",
     "text": [
      "Before :  []\n",
      "Jack Ma\n",
      "After :  ['Physics']\n"
     ]
    }
   ],
   "source": [
    "print('Before : ', new_student1.classes)\n",
    "new_student1.enrol('Physics')\n",
    "print('After : ', new_student1.classes)"
   ]
  },
  {
   "cell_type": "markdown",
   "id": "722e642c",
   "metadata": {
    "slideshow": {
     "slide_type": "fragment"
    }
   },
   "source": [
    "- How to call the instance method using the class name"
   ]
  },
  {
   "cell_type": "code",
   "execution_count": 48,
   "id": "e52375c1",
   "metadata": {
    "slideshow": {
     "slide_type": "-"
    }
   },
   "outputs": [
    {
     "name": "stdout",
     "output_type": "stream",
     "text": [
      "Jack Ma\n",
      "After :  ['Physics', 'Math', 'Math']\n",
      "\n"
     ]
    }
   ],
   "source": [
    "Student.enrol(new_student1, 'Math')\n",
    "print('After : ', new_student1.classes)\n",
    "print()"
   ]
  }
 ],
 "metadata": {
  "kernelspec": {
   "display_name": "Python 3 (ipykernel)",
   "language": "python",
   "name": "python3"
  },
  "language_info": {
   "codemirror_mode": {
    "name": "ipython",
    "version": 3
   },
   "file_extension": ".py",
   "mimetype": "text/x-python",
   "name": "python",
   "nbconvert_exporter": "python",
   "pygments_lexer": "ipython3",
   "version": "3.7.8"
  }
 },
 "nbformat": 4,
 "nbformat_minor": 5
}
