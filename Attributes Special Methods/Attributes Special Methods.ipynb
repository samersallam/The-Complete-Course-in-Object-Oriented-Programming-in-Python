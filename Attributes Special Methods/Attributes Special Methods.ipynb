{
 "cells": [
  {
   "cell_type": "markdown",
   "metadata": {
    "slideshow": {
     "slide_type": "skip"
    }
   },
   "source": [
    "## Attributes Special Methods"
   ]
  },
  {
   "cell_type": "markdown",
   "metadata": {
    "slideshow": {
     "slide_type": "slide"
    }
   },
   "source": [
    "* How to get an object attribute (Available and not Available)"
   ]
  },
  {
   "cell_type": "code",
   "execution_count": null,
   "metadata": {},
   "outputs": [],
   "source": [
    "class Student:\n",
    "    def __init__(self, first_name):\n",
    "        self.first_name = first_name\n",
    "\n",
    "student = Student('John')\n",
    "\n",
    "# print(student.first_name)\n",
    "# print(getattr(student, 'first_name'))\n",
    "\n",
    "print(student.last_name)"
   ]
  },
  {
   "cell_type": "markdown",
   "metadata": {
    "slideshow": {
     "slide_type": "fragment"
    }
   },
   "source": [
    "- Guide the interpreter what to do in case the attribute is not available"
   ]
  },
  {
   "cell_type": "code",
   "execution_count": null,
   "metadata": {
    "slideshow": {
     "slide_type": "-"
    }
   },
   "outputs": [],
   "source": [
    "class Student:\n",
    "    def __init__(self, first_name):\n",
    "        self.first_name = first_name\n",
    "    \n",
    "    def __getattr__(self, name):\n",
    "        print('Hi I am getattr')\n",
    "        return None\n",
    "    \n",
    "student = Student('John')\n",
    "\n",
    "# print(student.first_name)\n",
    "\n",
    "# print(getattr(student, 'first_name'))\n",
    "\n",
    "print(student.last_name)\n",
    "print()\n",
    "\n",
    "\n",
    "\n"
   ]
  },
  {
   "cell_type": "markdown",
   "metadata": {
    "slideshow": {
     "slide_type": "slide"
    }
   },
   "source": [
    "* How to set an object attribute"
   ]
  },
  {
   "cell_type": "code",
   "execution_count": null,
   "metadata": {},
   "outputs": [],
   "source": [
    "class Student:\n",
    "    def __init__(self, first_name):\n",
    "        self.first_name = first_name\n",
    "\n",
    "student = Student('John')\n",
    "\n",
    "student.first_name = 'Doe'  # Not Rec\n",
    "print(student.first_name)\n",
    "\n",
    "setattr(student, 'first_name', 'Doe 2')\n",
    "print(student.first_name)"
   ]
  },
  {
   "cell_type": "markdown",
   "metadata": {
    "slideshow": {
     "slide_type": "fragment"
    }
   },
   "source": [
    "- How to override __setattr__ (Add a verification step when setting an attribute value)"
   ]
  },
  {
   "cell_type": "code",
   "execution_count": null,
   "metadata": {},
   "outputs": [],
   "source": [
    "class Student:\n",
    "    def __init__(self, first_name, age):\n",
    "        self.first_name = first_name\n",
    "        self.age = age\n",
    "    \n",
    "    def __setattr__(self, name, value):\n",
    "        if name == 'age' and value < 0:\n",
    "            raise Exception('Age cannot be negative')\n",
    "        self.__dict__[name] = value\n",
    "\n",
    "student = Student('John', 26)\n",
    "\n",
    "setattr(student, 'age', 25)\n",
    "print(student.age)\n",
    "print()\n"
   ]
  },
  {
   "cell_type": "markdown",
   "metadata": {
    "slideshow": {
     "slide_type": "slide"
    }
   },
   "source": [
    "* How to delete an object attribute"
   ]
  },
  {
   "cell_type": "code",
   "execution_count": null,
   "metadata": {},
   "outputs": [],
   "source": [
    "class Student:\n",
    "    def __init__(self, first_name):\n",
    "        self.first_name = first_name\n",
    "\n",
    "student  = Student('John')\n",
    "\n",
    "# # Using del\n",
    "# print(student.first_name)\n",
    "# del student.first_name\n",
    "# print(student.first_name)\n",
    "\n",
    "# # Using delattr\n",
    "# print(student.first_name)\n",
    "# delattr(student, 'first_name')\n",
    "# print(student.first_name)"
   ]
  },
  {
   "cell_type": "markdown",
   "metadata": {
    "slideshow": {
     "slide_type": "fragment"
    }
   },
   "source": [
    "- How to override __delattr__"
   ]
  },
  {
   "cell_type": "code",
   "execution_count": null,
   "metadata": {},
   "outputs": [],
   "source": [
    "class Student:\n",
    "    def __init__(self, first_name):\n",
    "        self.first_name = first_name\n",
    "    \n",
    "    def __delattr__(self, name):\n",
    "        self.__dict__[name] = None\n",
    "\n",
    "student  = Student('John')\n",
    "\n",
    "# # Using del\n",
    "# print(student.first_name)\n",
    "# del student.first_name\n",
    "# print(student.first_name)\n",
    "print()\n",
    "# Using delattr\n",
    "print(student.first_name)\n",
    "delattr(student, 'first_name')\n",
    "print(student.first_name)\n",
    "print()"
   ]
  },
  {
   "cell_type": "markdown",
   "metadata": {
    "slideshow": {
     "slide_type": "slide"
    }
   },
   "source": [
    "- Let us create LazyDB class (Compare between the first access and the second access to the attribute)"
   ]
  },
  {
   "cell_type": "code",
   "execution_count": null,
   "metadata": {},
   "outputs": [],
   "source": [
    "import uuid\n",
    "\n",
    "class LazyDB:\n",
    "    def __init__(self, table_name):\n",
    "        self.table_name = table_name\n",
    "    \n",
    "    def __getattr__(self, row_id):\n",
    "        \n",
    "        # Connect to the data base\n",
    "        print('I am getattr function')\n",
    "        data = str(uuid.uuid4())\n",
    "        \n",
    "        setattr(self, row_id, data)\n",
    "        \n",
    "        return data\n",
    "\n",
    "print('Before')\n",
    "table1 = LazyDB('students')\n",
    "print(table1.__dict__)\n",
    "print()\n",
    "\n",
    "\n",
    "print('row_1 is : ', table1.row_1)\n",
    "\n",
    "print()\n",
    "print('After')\n",
    "print(table1.__dict__)\n",
    "\n",
    "print()\n",
    "print(table1.row_1)"
   ]
  },
  {
   "cell_type": "markdown",
   "metadata": {
    "slideshow": {
     "slide_type": "fragment"
    }
   },
   "source": [
    "* Let us create VerboseLazyDB class"
   ]
  },
  {
   "cell_type": "code",
   "execution_count": null,
   "metadata": {},
   "outputs": [],
   "source": [
    "import uuid\n",
    "\n",
    "class VerboseLazyDB:\n",
    "    def __init__(self, table_name):\n",
    "        self.table_name = table_name\n",
    "    \n",
    "    def __getattr__(self, row_id):\n",
    "        \n",
    "        # Connect to the data base\n",
    "        print('I am getattr function')\n",
    "        data = str(uuid.uuid4())\n",
    "        \n",
    "        setattr(self, row_id, data)\n",
    "        \n",
    "        return data\n",
    "    \n",
    "    def __setattr__(self, name, value):\n",
    "        if name != 'table_name':\n",
    "            print('Connecting to the database to get the data of the row with id {}'.format(name))\n",
    "        \n",
    "        self.__dict__[name] = value\n",
    "        \n",
    "table1 = VerboseLazyDB('students')\n",
    "print(table1.row_1)\n",
    "print(table1.row_1)"
   ]
  },
  {
   "cell_type": "markdown",
   "metadata": {},
   "source": [
    "### Thank You"
   ]
  }
 ],
 "metadata": {
  "kernelspec": {
   "display_name": "Python 3",
   "language": "python",
   "name": "python3"
  },
  "language_info": {
   "codemirror_mode": {
    "name": "ipython",
    "version": 3
   },
   "file_extension": ".py",
   "mimetype": "text/x-python",
   "name": "python",
   "nbconvert_exporter": "python",
   "pygments_lexer": "ipython3",
   "version": "3.7.1"
  }
 },
 "nbformat": 4,
 "nbformat_minor": 4
}
