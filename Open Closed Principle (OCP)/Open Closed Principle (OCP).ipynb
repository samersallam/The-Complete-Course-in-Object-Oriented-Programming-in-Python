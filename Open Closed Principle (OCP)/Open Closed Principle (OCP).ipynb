{
 "cells": [
  {
   "cell_type": "markdown",
   "metadata": {
    "slideshow": {
     "slide_type": "skip"
    }
   },
   "source": [
    "## Open Closed Principle (OCP)"
   ]
  },
  {
   "cell_type": "markdown",
   "metadata": {
    "slideshow": {
     "slide_type": "slide"
    }
   },
   "source": [
    "* Let us create the GeometricShape class with violating OCP principle"
   ]
  },
  {
   "cell_type": "code",
   "execution_count": 8,
   "metadata": {},
   "outputs": [
    {
     "name": "stdout",
     "output_type": "stream",
     "text": [
      "50\n",
      "\n"
     ]
    }
   ],
   "source": [
    "class GeometricShape:\n",
    "    def __init__(self, name, color, attributes):\n",
    "        self.name = name\n",
    "        self.color = color\n",
    "        self.attributes = attributes\n",
    "    \n",
    "    def calculate_area(self):\n",
    "        if self.name == 'circle':\n",
    "            return 3.14 * self.attributes['radius']**2\n",
    "        \n",
    "        if self.name == 'rectangle':\n",
    "            return self.attributes['width'] * self.attributes['height']\n",
    "        \n",
    "c = GeometricShape('circle', 'red', {'radius': 5})\n",
    "c.calculate_area()\n",
    "\n",
    "c = GeometricShape('rectangle', 'red', {'width': 5, 'height':10})\n",
    "print(c.calculate_area())\n",
    "print()"
   ]
  },
  {
   "cell_type": "markdown",
   "metadata": {
    "slideshow": {
     "slide_type": "slide"
    }
   },
   "source": [
    "* Let us fix the problem"
   ]
  },
  {
   "cell_type": "code",
   "execution_count": 10,
   "metadata": {},
   "outputs": [],
   "source": [
    "from abc import ABCMeta, abstractmethod\n",
    "\n",
    "class GeometricShape:\n",
    "    def __init__(self, name, color):\n",
    "        self.name = name\n",
    "        self.color = color\n",
    "    \n",
    "    @abstractmethod\n",
    "    def calculate_area(self):\n",
    "        pass\n",
    "\n",
    "class Circle(GeometricShape):\n",
    "    def __init__(self, name, color, radius):\n",
    "        super().__init__(name, color)\n",
    "        self.radius = radius\n",
    "    \n",
    "    def calculate_area(self):\n",
    "        return 3.14 * self.radius ** 2\n",
    "    \n",
    "class Rectangle(GeometricShape):\n",
    "    def __init__(self, name, color, w, h):\n",
    "        super().__init__(name, color)\n",
    "        self.w = w\n",
    "        self.h = h\n",
    "    \n",
    "    def calculate_area(self):\n",
    "        return self.w * self.h"
   ]
  },
  {
   "cell_type": "markdown",
   "metadata": {
    "slideshow": {
     "slide_type": "skip"
    }
   },
   "source": [
    "### Thank You"
   ]
  }
 ],
 "metadata": {
  "kernelspec": {
   "display_name": "Python 3",
   "language": "python",
   "name": "python3"
  },
  "language_info": {
   "codemirror_mode": {
    "name": "ipython",
    "version": 3
   },
   "file_extension": ".py",
   "mimetype": "text/x-python",
   "name": "python",
   "nbconvert_exporter": "python",
   "pygments_lexer": "ipython3",
   "version": "3.7.1"
  }
 },
 "nbformat": 4,
 "nbformat_minor": 4
}
