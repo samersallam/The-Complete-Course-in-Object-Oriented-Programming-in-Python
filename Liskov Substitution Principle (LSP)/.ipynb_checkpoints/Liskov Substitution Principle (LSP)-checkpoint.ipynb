{
 "cells": [
  {
   "cell_type": "markdown",
   "metadata": {
    "slideshow": {
     "slide_type": "skip"
    }
   },
   "source": [
    "## Liskov Substitution Principle (LSP)"
   ]
  },
  {
   "cell_type": "markdown",
   "metadata": {
    "slideshow": {
     "slide_type": "slide"
    }
   },
   "source": [
    "* Let us create the File classes with violating LSP principle"
   ]
  },
  {
   "cell_type": "code",
   "execution_count": 17,
   "metadata": {},
   "outputs": [
    {
     "data": {
      "text/plain": [
       "<__main__.ReadableFile at 0x29c76baa5c8>"
      ]
     },
     "execution_count": 17,
     "metadata": {},
     "output_type": "execute_result"
    }
   ],
   "source": [
    "class File:\n",
    "    def __init__(self, file_path, mod):\n",
    "        self.content = ''\n",
    "    \n",
    "    def read(self):\n",
    "        return self.content\n",
    "    \n",
    "    def write(self, new_content):\n",
    "        self.content += new_content\n",
    "\n",
    "class WritableFile(File):\n",
    "    def clear_file(self):\n",
    "        self.content = ''\n",
    "\n",
    "class ReadableFile(File):\n",
    "    def write(self):\n",
    "        raise Exception\n",
    "      \n",
    "\n",
    "        \n",
    "rf = ReadableFile('path', 'r')\n",
    "rf"
   ]
  },
  {
   "cell_type": "markdown",
   "metadata": {
    "slideshow": {
     "slide_type": "slide"
    }
   },
   "source": [
    "* Let us fix the problem"
   ]
  },
  {
   "cell_type": "code",
   "execution_count": 18,
   "metadata": {},
   "outputs": [
    {
     "data": {
      "text/plain": [
       "<__main__.WriteableFile at 0x29c76bb3388>"
      ]
     },
     "execution_count": 18,
     "metadata": {},
     "output_type": "execute_result"
    }
   ],
   "source": [
    "class ReadOnlyFile:\n",
    "    def __init__(self, file_path, mod):\n",
    "        self.content = ''\n",
    "    \n",
    "    def read(self):\n",
    "        return self.content\n",
    "    \n",
    "class WriteableFile(ReadOnlyFile):\n",
    "    def write(self, new_content):\n",
    "        self.content += new_content\n",
    "\n",
    "wf = WriteableFile('path', 'r')\n",
    "wf"
   ]
  },
  {
   "cell_type": "markdown",
   "metadata": {
    "slideshow": {
     "slide_type": "skip"
    }
   },
   "source": [
    "### Thank You"
   ]
  }
 ],
 "metadata": {
  "kernelspec": {
   "display_name": "Python 3",
   "language": "python",
   "name": "python3"
  },
  "language_info": {
   "codemirror_mode": {
    "name": "ipython",
    "version": 3
   },
   "file_extension": ".py",
   "mimetype": "text/x-python",
   "name": "python",
   "nbconvert_exporter": "python",
   "pygments_lexer": "ipython3",
   "version": "3.7.1"
  }
 },
 "nbformat": 4,
 "nbformat_minor": 4
}
