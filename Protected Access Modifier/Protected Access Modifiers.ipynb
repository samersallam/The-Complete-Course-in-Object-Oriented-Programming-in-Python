{
 "cells": [
  {
   "cell_type": "markdown",
   "metadata": {
    "slideshow": {
     "slide_type": "skip"
    }
   },
   "source": [
    "## Protected Access Modifiers"
   ]
  },
  {
   "cell_type": "code",
   "execution_count": 82,
   "metadata": {
    "slideshow": {
     "slide_type": "skip"
    }
   },
   "outputs": [],
   "source": [
    "class Parent:\n",
    "    def __init__(self):\n",
    "        self._parent_protected_attribute = 10\n",
    "    \n",
    "    def _parent_protected_method(self):\n",
    "        self._parent_protected_attribute = self._parent_protected_attribute * 2\n",
    "\n",
    "        \n",
    "class Child(Parent):\n",
    "    def __init__(self):\n",
    "        super().__init__()\n",
    "        self._child_protected_attribute = 15\n",
    "    \n",
    "    def _child_protected_method(self):\n",
    "        self._child_protected_attribute = self._child_protected_attribute * 2\n",
    "    \n",
    "    # the correct way to access protected methods and attributes\n",
    "#     def get_access_to_parent_protected_items(self):\n",
    "#         self._parent_protected_method()\n",
    "#         print(self._parent_protected_attribute)\n",
    "    \n",
    "# Get a protected attribute\n",
    "# parent_obj = Parent()\n",
    "# print(parent_obj._parent_protected_attribute)\n",
    "\n",
    "# Call a protected method\n",
    "# parent_obj = Parent()\n",
    "# parent_obj._parent_protected_method()\n",
    "# print(parent_obj._parent_protected_attribute)"
   ]
  },
  {
   "cell_type": "markdown",
   "metadata": {
    "slideshow": {
     "slide_type": "slide"
    }
   },
   "source": [
    "- How to define a protected attribute and a protected method"
   ]
  },
  {
   "cell_type": "code",
   "execution_count": 20,
   "metadata": {},
   "outputs": [],
   "source": [
    "class Parent:\n",
    "    def __init__(self):\n",
    "        self._parent_protected_attribute = 10\n",
    "    \n",
    "    def _parent_protected_method(self):\n",
    "        self._parent_protected_attribute = self._parent_protected_attribute * 2\n",
    "\n",
    "        \n",
    "class Child(Parent):\n",
    "    def __init__(self):\n",
    "        super().__init__()\n",
    "        self._child_protected_attribute = 15\n",
    "    \n",
    "    def _child_protected_method(self):\n",
    "        self._child_protected_attribute = self._child_protected_attribute * 2"
   ]
  },
  {
   "cell_type": "markdown",
   "metadata": {
    "slideshow": {
     "slide_type": "fragment"
    }
   },
   "source": [
    "- Try to get a protected attribute out ot of the class scope"
   ]
  },
  {
   "cell_type": "code",
   "execution_count": 21,
   "metadata": {},
   "outputs": [
    {
     "name": "stdout",
     "output_type": "stream",
     "text": [
      "10\n"
     ]
    }
   ],
   "source": [
    "parent = Parent()\n",
    "print(parent._parent_protected_attribute)"
   ]
  },
  {
   "cell_type": "markdown",
   "metadata": {
    "slideshow": {
     "slide_type": "fragment"
    }
   },
   "source": [
    "- Try to call a protected method out ot of the class scope"
   ]
  },
  {
   "cell_type": "code",
   "execution_count": 22,
   "metadata": {},
   "outputs": [
    {
     "name": "stdout",
     "output_type": "stream",
     "text": [
      "20\n",
      "\n"
     ]
    }
   ],
   "source": [
    "parent = Parent()\n",
    "parent._parent_protected_method()\n",
    "print(parent._parent_protected_attribute)\n",
    "print()"
   ]
  },
  {
   "cell_type": "markdown",
   "metadata": {
    "slideshow": {
     "slide_type": "slide"
    }
   },
   "source": [
    "- Let us see the correct way to access protected methods and attributes"
   ]
  },
  {
   "cell_type": "code",
   "execution_count": null,
   "metadata": {},
   "outputs": [],
   "source": [
    "class Parent:\n",
    "    def __init__(self):\n",
    "        self._parent_protected_attribute = 10\n",
    "    \n",
    "    def _parent_protected_method(self):\n",
    "        self._parent_protected_attribute = self._parent_protected_attribute * 2\n",
    "\n",
    "        \n",
    "class Child(Parent):\n",
    "    def __init__(self):\n",
    "        super().__init__()\n",
    "        self._child_protected_attribute = 15\n",
    "    \n",
    "    def _child_protected_method(self):\n",
    "        self._child_protected_attribute = self._child_protected_attribute * 2\n",
    "    \n",
    "    def dummy(self):\n",
    "        self._parent_protected_method()\n",
    "        \n",
    "        \n",
    "        "
   ]
  },
  {
   "cell_type": "code",
   "execution_count": 15,
   "metadata": {
    "slideshow": {
     "slide_type": "skip"
    }
   },
   "outputs": [],
   "source": [
    "# Protected Access Modifiers Summary\n",
    "# add onedrive link here"
   ]
  },
  {
   "cell_type": "markdown",
   "metadata": {
    "slideshow": {
     "slide_type": "skip"
    }
   },
   "source": [
    "### Thank You"
   ]
  }
 ],
 "metadata": {
  "kernelspec": {
   "display_name": "Python 3",
   "language": "python",
   "name": "python3"
  },
  "language_info": {
   "codemirror_mode": {
    "name": "ipython",
    "version": 3
   },
   "file_extension": ".py",
   "mimetype": "text/x-python",
   "name": "python",
   "nbconvert_exporter": "python",
   "pygments_lexer": "ipython3",
   "version": "3.7.1"
  }
 },
 "nbformat": 4,
 "nbformat_minor": 4
}
