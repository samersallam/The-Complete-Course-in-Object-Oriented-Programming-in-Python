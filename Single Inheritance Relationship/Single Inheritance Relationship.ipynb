{
 "cells": [
  {
   "cell_type": "markdown",
   "metadata": {
    "slideshow": {
     "slide_type": "skip"
    }
   },
   "source": [
    "## Single Inheritance Relationship"
   ]
  },
  {
   "cell_type": "code",
   "execution_count": 60,
   "metadata": {
    "slideshow": {
     "slide_type": "skip"
    }
   },
   "outputs": [],
   "source": [
    "import datetime\n",
    "\n",
    "class Employee:\n",
    "    num_employees = 0\n",
    "    raise_ = 1.1\n",
    "\n",
    "    def __init__(self, first_name, last_name, salary):\n",
    "        self.first_name = first_name\n",
    "        self.last_name = last_name\n",
    "        self.email = first_name + '.' + last_name + '@company.com'\n",
    "        self.salary = salary\n",
    "        Employee.num_employees += 1\n",
    "\n",
    "    def apply_raise(self):\n",
    "        self.salary = int(self.salary * Employee.raise_)\n",
    "#         self.salary = int(self.salary * self.raise_)\n",
    "\n",
    "    @classmethod\n",
    "    def update_raise(cls, new_raise_):\n",
    "        cls.raise_ = new_raise_\n",
    "\n",
    "    @staticmethod\n",
    "    def is_workday(day):\n",
    "        if day.weekday() == 5 or day.weekday() == 6:\n",
    "            return False\n",
    "        return True\n",
    "\n",
    "    \n",
    "# emp = Employee('John', 'Doe', 5000)\n",
    "# print(emp.salary)\n",
    "# emp.apply_raise()\n",
    "# print(emp.salary)\n",
    "# Employee.is_workday(datetime.datetime(2021,2,6))\n",
    "    \n",
    "class Developer(Employee):\n",
    "    pass\n",
    "\n",
    "\n",
    "# dev = Developer('Jack', 'Doe', 5000)\n",
    "# print(dev.salary)\n",
    "# dev.apply_raise()\n",
    "# print(dev.salary)\n",
    "\n",
    "\n",
    "class Developer(Employee):\n",
    "    raise_ = 1.3\n",
    "\n",
    "    def __init__(self, first_name, last_name, salary, programming_languages):\n",
    "        super().__init__(first_name, last_name, salary)\n",
    "        # Employee.__init__(self, first_name, last_name, pay) this and the previous line did the same work, but\n",
    "        # this is more useful when work with multiple inheritance\n",
    "        self.programming_languages = programming_languages\n",
    "        \n",
    "    def add_new_programming_language(self, programming_language):\n",
    "        self.programming_languages.append(programming_language)\n",
    "        \n",
    "\n",
    "# dev = Developer('Jack', 'Doe', 5000, ['C#'])\n",
    "# dev.add_new_programming_language('Python')\n",
    "# print(dev.programming_languages)\n",
    "\n",
    "# The difference between using class name and self for the class attributes\n",
    "# emp = Employee('Jack', 'Doe', 5000)\n",
    "# print(emp.salary)\n",
    "# emp.apply_raise()\n",
    "# print(emp.salary)\n",
    "\n",
    "# print()\n",
    "\n",
    "# dev = Developer('Jack', 'Doe', 5000, ['C#'])\n",
    "# print(dev.salary)\n",
    "# dev.apply_raise()\n",
    "# print(dev.salary)"
   ]
  },
  {
   "cell_type": "markdown",
   "metadata": {
    "slideshow": {
     "slide_type": "slide"
    }
   },
   "source": [
    "* Let us create the employee class"
   ]
  },
  {
   "cell_type": "code",
   "execution_count": 2,
   "metadata": {},
   "outputs": [
    {
     "name": "stdout",
     "output_type": "stream",
     "text": [
      "5000\n",
      "5500\n"
     ]
    }
   ],
   "source": [
    "class Employee:\n",
    "    num_employees = 0\n",
    "    raise_ = 1.1\n",
    "\n",
    "    def __init__(self, first_name, last_name, salary):\n",
    "        self.first_name = first_name\n",
    "        self.last_name = last_name\n",
    "        self.email = first_name + '.' + last_name + '@company.com'\n",
    "        self.salary = salary\n",
    "        Employee.num_employees += 1\n",
    "    \n",
    "    def apply_raise(self):\n",
    "        self.salary = int(self.salary * Employee.raise_)\n",
    "#         self.salary = int(self.salary * self.raise_)\n",
    "\n",
    "    @classmethod\n",
    "    def update_raise(cls, new_raise_):\n",
    "        cls.raise_ = new_raise_\n",
    "\n",
    "    @staticmethod\n",
    "    def is_workday(day):\n",
    "        if day.weekday() == 5 or day.weekday() == 6:\n",
    "            return False\n",
    "        return True\n",
    "\n",
    "emp = Employee('John', 'Doe', 5000)\n",
    "print(emp.salary)\n",
    "emp.apply_raise()\n",
    "print(emp.salary)"
   ]
  },
  {
   "cell_type": "markdown",
   "metadata": {
    "slideshow": {
     "slide_type": "fragment"
    }
   },
   "source": [
    "* What happens when we just inherit the developer class from the employee class"
   ]
  },
  {
   "cell_type": "code",
   "execution_count": 5,
   "metadata": {},
   "outputs": [
    {
     "name": "stdout",
     "output_type": "stream",
     "text": [
      "5000\n",
      "5500\n"
     ]
    }
   ],
   "source": [
    "class Developer(Employee):\n",
    "    pass\n",
    "    \n",
    "\n",
    "dev = Developer('John', 'Doe', 5000)\n",
    "dev\n",
    "# print(dev.salary)\n",
    "# dev.apply_raise()\n",
    "# print(dev.salary)"
   ]
  },
  {
   "cell_type": "markdown",
   "metadata": {
    "slideshow": {
     "slide_type": "fragment"
    }
   },
   "source": [
    "* Let us add some extra attributes and methods to the developer class"
   ]
  },
  {
   "cell_type": "code",
   "execution_count": 9,
   "metadata": {},
   "outputs": [
    {
     "name": "stdout",
     "output_type": "stream",
     "text": [
      "['Python']\n",
      "['Python', 'C#']\n",
      "\n"
     ]
    }
   ],
   "source": [
    "class Developer(Employee):\n",
    "    \n",
    "    def __init__(self, first_name, last_name, salary, prog_langs):\n",
    "#         super().__init__(first_name, last_name, salary)\n",
    "        Employee.__init__(self, first_name, last_name, salary)\n",
    "        self.prog_langs = prog_langs\n",
    "    \n",
    "    def append_prog_lang(self, prog_lang_name):\n",
    "        self.prog_langs.append(prog_lang_name)\n",
    "\n",
    "\n",
    "dev = Developer('John', 'Doe', 5000, ['Python'])\n",
    "print(dev.prog_langs)\n",
    "dev.append_prog_lang('C#')\n",
    "print(dev.prog_langs)\n",
    "print()\n"
   ]
  },
  {
   "cell_type": "markdown",
   "metadata": {
    "slideshow": {
     "slide_type": "slide"
    }
   },
   "source": [
    "* The difference between using class name and self for the class attributes"
   ]
  },
  {
   "cell_type": "code",
   "execution_count": 13,
   "metadata": {},
   "outputs": [
    {
     "name": "stdout",
     "output_type": "stream",
     "text": [
      "5000\n",
      "7500\n",
      "\n"
     ]
    }
   ],
   "source": [
    "class Employee:\n",
    "    num_employees = 0\n",
    "    raise_ = 1.1\n",
    "\n",
    "    def __init__(self, first_name, last_name, salary):\n",
    "        self.first_name = first_name\n",
    "        self.last_name = last_name\n",
    "        self.email = first_name + '.' + last_name + '@company.com'\n",
    "        self.salary = salary\n",
    "        Employee.num_employees += 1\n",
    "    \n",
    "    def apply_raise(self):\n",
    "#         self.salary = int(self.salary * Employee.raise_)\n",
    "        self.salary = int(self.salary * self.raise_)\n",
    "\n",
    "    @classmethod\n",
    "    def update_raise(cls, new_raise_):\n",
    "        cls.raise_ = new_raise_\n",
    "\n",
    "    @staticmethod\n",
    "    def is_workday(day):\n",
    "        if day.weekday() == 5 or day.weekday() == 6:\n",
    "            return False\n",
    "        return True\n",
    "\n",
    "class Developer(Employee):\n",
    "    raise_ = 1.5\n",
    "    def __init__(self, first_name, last_name, salary, prog_langs):\n",
    "#         super().__init__(first_name, last_name, salary)\n",
    "        Employee.__init__(self, first_name, last_name, salary)\n",
    "        self.prog_langs = prog_langs\n",
    "    \n",
    "    def append_prog_lang(self, prog_lang_name):\n",
    "        self.prog_langs.append(prog_lang_name)\n",
    "        \n",
    "        \n",
    "dev = Developer('John', 'Doe', 5000, ['C#'])\n",
    "\n",
    "print(dev.salary)\n",
    "dev.apply_raise()\n",
    "print(dev.salary)\n",
    "print()"
   ]
  },
  {
   "cell_type": "markdown",
   "metadata": {},
   "source": [
    "### Thank You"
   ]
  }
 ],
 "metadata": {
  "kernelspec": {
   "display_name": "Python 3",
   "language": "python",
   "name": "python3"
  },
  "language_info": {
   "codemirror_mode": {
    "name": "ipython",
    "version": 3
   },
   "file_extension": ".py",
   "mimetype": "text/x-python",
   "name": "python",
   "nbconvert_exporter": "python",
   "pygments_lexer": "ipython3",
   "version": "3.7.1"
  }
 },
 "nbformat": 4,
 "nbformat_minor": 4
}
