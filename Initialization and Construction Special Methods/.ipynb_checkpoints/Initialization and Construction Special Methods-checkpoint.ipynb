{
 "cells": [
  {
   "cell_type": "markdown",
   "metadata": {
    "slideshow": {
     "slide_type": "skip"
    }
   },
   "source": [
    "## Initialization and Construction Special Methods"
   ]
  },
  {
   "cell_type": "markdown",
   "metadata": {
    "slideshow": {
     "slide_type": "slide"
    }
   },
   "source": [
    "* How to override __init__ and __new__ method"
   ]
  },
  {
   "cell_type": "code",
   "execution_count": 54,
   "metadata": {},
   "outputs": [
    {
     "name": "stdout",
     "output_type": "stream",
     "text": [
      "Hi, I am NEW\n",
      "Hi, I am from the type :  <class '__main__.Student'>\n",
      "Hi I am init\n"
     ]
    }
   ],
   "source": [
    "class Student:\n",
    "    def __new__(cls, *args, **kwargs):\n",
    "        print('Hi, I am NEW')\n",
    "        print('Hi, I am from the type : ', cls)\n",
    "        return object.__new__(cls)\n",
    "    \n",
    "    def __init__(self, first_name, last_name, age):\n",
    "        print('Hi I am init')\n",
    "        self.id = str(uuid.uuid4())\n",
    "        self.first_name = first_name\n",
    "        self.last_name = last_name\n",
    "        self.full_name = first_name + \" \" + last_name\n",
    "        self.age = age\n",
    "        self.classes = []\n",
    "    \n",
    "student = Student('John', 'Doe', 25)"
   ]
  },
  {
   "cell_type": "markdown",
   "metadata": {
    "slideshow": {
     "slide_type": "slide"
    }
   },
   "source": [
    "* How to override __del__ method (It is useful for objects that might require extra cleanup upon deletion like file object)"
   ]
  },
  {
   "cell_type": "code",
   "execution_count": 60,
   "metadata": {},
   "outputs": [
    {
     "name": "stdout",
     "output_type": "stream",
     "text": [
      "File has been deleted\n"
     ]
    }
   ],
   "source": [
    "class FileResource:\n",
    "    def __init__(self, name):\n",
    "        self.name = name\n",
    "        self.file_obj = open(name, 'w')\n",
    "    \n",
    "    def write(self):\n",
    "        self.file_obj.write('some contents')\n",
    "    \n",
    "    def __del__(self):\n",
    "        self.file_obj.close()\n",
    "        print('File has been deleted')\n",
    "\n",
    "fil = FileResource('dummy')\n",
    "fil.write()\n",
    "del fil"
   ]
  },
  {
   "cell_type": "markdown",
   "metadata": {},
   "source": [
    "### Thank You"
   ]
  }
 ],
 "metadata": {
  "kernelspec": {
   "display_name": "Python 3",
   "language": "python",
   "name": "python3"
  },
  "language_info": {
   "codemirror_mode": {
    "name": "ipython",
    "version": 3
   },
   "file_extension": ".py",
   "mimetype": "text/x-python",
   "name": "python",
   "nbconvert_exporter": "python",
   "pygments_lexer": "ipython3",
   "version": "3.7.1"
  }
 },
 "nbformat": 4,
 "nbformat_minor": 4
}
