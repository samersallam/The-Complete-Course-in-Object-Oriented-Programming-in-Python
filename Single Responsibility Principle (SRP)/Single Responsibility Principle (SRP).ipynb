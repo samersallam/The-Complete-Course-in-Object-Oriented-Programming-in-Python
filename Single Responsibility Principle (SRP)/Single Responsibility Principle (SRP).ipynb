{
 "cells": [
  {
   "cell_type": "markdown",
   "metadata": {
    "slideshow": {
     "slide_type": "skip"
    }
   },
   "source": [
    "## Single Responsibility Principle (SRP)"
   ]
  },
  {
   "cell_type": "code",
   "execution_count": 103,
   "metadata": {
    "slideshow": {
     "slide_type": "skip"
    }
   },
   "outputs": [],
   "source": [
    "# Do not update codes running correctly in the production environment"
   ]
  },
  {
   "cell_type": "markdown",
   "metadata": {
    "slideshow": {
     "slide_type": "slide"
    }
   },
   "source": [
    "* Let us create the Library class with violating SRP principle"
   ]
  },
  {
   "cell_type": "code",
   "execution_count": 4,
   "metadata": {},
   "outputs": [
    {
     "name": "stdout",
     "output_type": "stream",
     "text": [
      "{'book1': 50}\n",
      "\n",
      "50\n",
      "\n"
     ]
    }
   ],
   "source": [
    "class Library:\n",
    "    def __init__(self):\n",
    "        self.books = {}\n",
    "        self.sold_books = []\n",
    "        self.total_income = 0\n",
    "    \n",
    "    def add_book(self, name, price):\n",
    "        self.books[name] = price\n",
    "    \n",
    "    def remove_book(self):\n",
    "        del self.books[name]\n",
    "    \n",
    "    # Break SRP\n",
    "    def sell_book(self, name):\n",
    "        self.total_income += self.books[name]\n",
    "        self.sold_books.append(name)\n",
    "    \n",
    "    def print_books(self):\n",
    "        print(self.books)\n",
    "        print()\n",
    "        \n",
    "    def print_total_income(self):\n",
    "        print(self.total_income)\n",
    "        print()\n",
    "        \n",
    "lib = Library()\n",
    "lib.add_book('book1', 50)\n",
    "lib.print_books()\n",
    "\n",
    "lib.sell_book('book1')\n",
    "lib.print_total_income()\n",
    "\n",
    "\n"
   ]
  },
  {
   "cell_type": "markdown",
   "metadata": {
    "slideshow": {
     "slide_type": "slide"
    }
   },
   "source": [
    "* Let us fix the problem"
   ]
  },
  {
   "cell_type": "code",
   "execution_count": null,
   "metadata": {},
   "outputs": [],
   "source": [
    "class LibraryBooks:\n",
    "    def __init__(self):\n",
    "        self.books = {}\n",
    "\n",
    "    def add_book(self, name, price):\n",
    "        self.books[name] = price\n",
    "    \n",
    "    def remove_book(self):\n",
    "        del self.books[name]\n",
    "    \n",
    "    def print_books(self):\n",
    "        print(self.books)\n",
    "        print()\n",
    "\n",
    "\n",
    "class LibrarySalesOperations:\n",
    "    def __init__(self, library_books):\n",
    "        self.library_books = library_books\n",
    "    \n",
    "    def sell_book(self, name):\n",
    "        self.total_income += self.library_books.books[name]\n",
    "        self.sold_books.append(name)\n",
    "    \n",
    "    def print_total_income(self):\n",
    "        print(self.total_income)\n",
    "        print()"
   ]
  },
  {
   "cell_type": "markdown",
   "metadata": {
    "slideshow": {
     "slide_type": "skip"
    }
   },
   "source": [
    "### Thank You"
   ]
  }
 ],
 "metadata": {
  "kernelspec": {
   "display_name": "Python 3",
   "language": "python",
   "name": "python3"
  },
  "language_info": {
   "codemirror_mode": {
    "name": "ipython",
    "version": 3
   },
   "file_extension": ".py",
   "mimetype": "text/x-python",
   "name": "python",
   "nbconvert_exporter": "python",
   "pygments_lexer": "ipython3",
   "version": "3.7.1"
  }
 },
 "nbformat": 4,
 "nbformat_minor": 4
}
