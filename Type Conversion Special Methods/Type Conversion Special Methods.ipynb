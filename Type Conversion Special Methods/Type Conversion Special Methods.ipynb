{
 "cells": [
  {
   "cell_type": "markdown",
   "metadata": {
    "slideshow": {
     "slide_type": "skip"
    }
   },
   "source": [
    "## Type Conversion Special Methods"
   ]
  },
  {
   "cell_type": "markdown",
   "metadata": {
    "slideshow": {
     "slide_type": "slide"
    }
   },
   "source": [
    "* What will happen if we call 'int' method for a class object"
   ]
  },
  {
   "cell_type": "code",
   "execution_count": null,
   "metadata": {},
   "outputs": [],
   "source": [
    "import uuid\n",
    "\n",
    "class Student:\n",
    "    \n",
    "    def __init__(self, first_name, last_name, age, cgpa):\n",
    "        self.id = str(uuid.uuid4())\n",
    "        self.first_name = first_name\n",
    "        self.last_name = last_name\n",
    "        self.full_name = first_name + \" \" + last_name\n",
    "        self.age = age\n",
    "        self.cgpa = cgpa\n",
    "        self.classes = []\n",
    "\n",
    "student = Student('John', 'Doe', 25, 95.5)\n",
    "print(int(student))"
   ]
  },
  {
   "cell_type": "markdown",
   "metadata": {
    "slideshow": {
     "slide_type": "fragment"
    }
   },
   "source": [
    "* How to override '__int__' method"
   ]
  },
  {
   "cell_type": "code",
   "execution_count": 19,
   "metadata": {},
   "outputs": [
    {
     "name": "stdout",
     "output_type": "stream",
     "text": [
      "25\n",
      "\n"
     ]
    }
   ],
   "source": [
    "import uuid\n",
    "\n",
    "class Student:\n",
    "    \n",
    "    def __init__(self, first_name, last_name, age, cgpa):\n",
    "        self.id = str(uuid.uuid4())\n",
    "        self.first_name = first_name\n",
    "        self.last_name = last_name\n",
    "        self.full_name = first_name + \" \" + last_name\n",
    "        self.age = age\n",
    "        self.cgpa = cgpa\n",
    "        self.classes = []\n",
    "    \n",
    "    def __int__(self):\n",
    "        return self.age\n",
    "\n",
    "student = Student('John', 'Doe', 25, 95.5)\n",
    "print(int(student))\n",
    "print()\n",
    "\n"
   ]
  },
  {
   "cell_type": "markdown",
   "metadata": {
    "slideshow": {
     "slide_type": "slide"
    }
   },
   "source": [
    "* What will happen if we call 'float' method for a class object"
   ]
  },
  {
   "cell_type": "code",
   "execution_count": null,
   "metadata": {},
   "outputs": [],
   "source": [
    "import uuid\n",
    "\n",
    "class Student:\n",
    "    \n",
    "    def __init__(self, first_name, last_name, age, cgpa):\n",
    "        self.id = str(uuid.uuid4())\n",
    "        self.first_name = first_name\n",
    "        self.last_name = last_name\n",
    "        self.full_name = first_name + \" \" + last_name\n",
    "        self.age = age\n",
    "        self.cgpa = cgpa\n",
    "        self.classes = []\n",
    "\n",
    "student = Student('John', 'Doe', 25, 95.5)\n",
    "print(float(student))"
   ]
  },
  {
   "cell_type": "markdown",
   "metadata": {
    "slideshow": {
     "slide_type": "fragment"
    }
   },
   "source": [
    "* How to override '__float__' method"
   ]
  },
  {
   "cell_type": "code",
   "execution_count": 21,
   "metadata": {},
   "outputs": [
    {
     "name": "stdout",
     "output_type": "stream",
     "text": [
      "95.5\n",
      "\n"
     ]
    }
   ],
   "source": [
    "import uuid\n",
    "\n",
    "class Student:\n",
    "    \n",
    "    def __init__(self, first_name, last_name, age, cgpa):\n",
    "        self.id = str(uuid.uuid4())\n",
    "        self.first_name = first_name\n",
    "        self.last_name = last_name\n",
    "        self.full_name = first_name + \" \" + last_name\n",
    "        self.age = age\n",
    "        self.cgpa = cgpa\n",
    "        self.classes = []\n",
    "    \n",
    "    def __float__(self):\n",
    "        return self.cgpa\n",
    "\n",
    "student = Student('John', 'Doe', 25, 95.5)\n",
    "print(float(student))\n",
    "print()"
   ]
  },
  {
   "cell_type": "markdown",
   "metadata": {},
   "source": [
    "### Thank You"
   ]
  }
 ],
 "metadata": {
  "kernelspec": {
   "display_name": "Python 3",
   "language": "python",
   "name": "python3"
  },
  "language_info": {
   "codemirror_mode": {
    "name": "ipython",
    "version": 3
   },
   "file_extension": ".py",
   "mimetype": "text/x-python",
   "name": "python",
   "nbconvert_exporter": "python",
   "pygments_lexer": "ipython3",
   "version": "3.7.1"
  }
 },
 "nbformat": 4,
 "nbformat_minor": 4
}
