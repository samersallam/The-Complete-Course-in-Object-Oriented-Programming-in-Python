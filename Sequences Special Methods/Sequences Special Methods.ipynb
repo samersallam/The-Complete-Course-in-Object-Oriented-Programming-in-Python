{
 "cells": [
  {
   "cell_type": "markdown",
   "metadata": {
    "slideshow": {
     "slide_type": "skip"
    }
   },
   "source": [
    "## Sequences Special Methods"
   ]
  },
  {
   "cell_type": "code",
   "execution_count": null,
   "metadata": {
    "slideshow": {
     "slide_type": "skip"
    }
   },
   "outputs": [],
   "source": [
    "import os\n",
    "\n",
    "class Dataset:\n",
    "    sample_name = 'Doc {}.txt'\n",
    "    \n",
    "    def __init__(self, dataset_path):\n",
    "        self.dataset_path = dataset_path\n",
    "        self.samples = os.listdir(self.dataset_path)\n",
    "    \n",
    "    def __len__(self):\n",
    "        return len(self.samples)\n",
    "    \n",
    "    def __getitem__(self, index):\n",
    "        sample_path = self.get_sample_path(index)\n",
    "        with open(sample_path, 'r') as f:\n",
    "            return f.read()\n",
    "    \n",
    "    def __setitem__(self, index, value):\n",
    "        new_sample_file_name = self.sample_name.format(index)\n",
    "        self.samples.append(new_sample_file_name)\n",
    "        \n",
    "        sample_path = self.get_sample_path(index)\n",
    "        with open(sample_path, 'w') as f:\n",
    "            return f.write(value)\n",
    "    \n",
    "    def get_sample_path(self, index):\n",
    "        return os.path.join(self.dataset_path, self.samples[index])\n",
    "\n",
    "# dataset = Dataset('dataset')\n",
    "# len(dataset)\n",
    "# dataset[1]\n",
    "# dataset[3] = 'Hello, I am Sample 3'\n",
    "\n",
    "# for smpl in dataset:\n",
    "#     print(smpl)"
   ]
  },
  {
   "cell_type": "markdown",
   "metadata": {
    "slideshow": {
     "slide_type": "slide"
    }
   },
   "source": [
    "* How os.listdir function work"
   ]
  },
  {
   "cell_type": "code",
   "execution_count": null,
   "metadata": {},
   "outputs": [],
   "source": [
    "import os\n",
    "\n",
    "os.listdir(r'D:\\Training\\Samer Academy\\Online Courses\\[2] python-oop\\Sections\\[3] Special Methods (Dunder Methods) in Python OOP\\dataset')"
   ]
  },
  {
   "cell_type": "markdown",
   "metadata": {
    "slideshow": {
     "slide_type": "slide"
    }
   },
   "source": [
    "* Let us build the Immutable Dataset class"
   ]
  },
  {
   "cell_type": "code",
   "execution_count": null,
   "metadata": {},
   "outputs": [],
   "source": [
    "import os\n",
    "\n",
    "class Dataset:\n",
    "    sample_name = 'Doc {}.txt'\n",
    "    def __init__(self, dataset_path):\n",
    "        self.dataset_path = dataset_path\n",
    "        self.samples = os.listdir(dataset_path)\n",
    "    \n",
    "    def __len__(self):\n",
    "        return len(self.samples)\n",
    "    \n",
    "    def __getitem__(self, index):\n",
    "        file_name = self.sample_name.format(index)\n",
    "        file_path = os.path.join(self.dataset_path, file_name)\n",
    "        with open(file_path, 'r') as f:\n",
    "            return f.read()\n",
    "        \n",
    "    \n",
    "dataset = Dataset(r'D:\\Training\\Samer Academy\\Online Courses\\[2] python-oop\\Sections\\[3] Special Methods (Dunder Methods) in Python OOP\\dataset')\n",
    "# print(dataset.samples)\n",
    "# print(len(dataset))\n",
    "print(dataset[2])\n",
    "print()"
   ]
  },
  {
   "cell_type": "markdown",
   "metadata": {
    "slideshow": {
     "slide_type": "fragment"
    }
   },
   "source": [
    "* When you define __ getitem __, the class object becomes iterable"
   ]
  },
  {
   "cell_type": "code",
   "execution_count": null,
   "metadata": {},
   "outputs": [],
   "source": [
    "# for txt_file in dataset:\n",
    "#     print(txt_file)\n",
    "dataset[2] = 'hello'"
   ]
  },
  {
   "cell_type": "markdown",
   "metadata": {
    "slideshow": {
     "slide_type": "slide"
    }
   },
   "source": [
    "* Let us build the Mutable Dataset class"
   ]
  },
  {
   "cell_type": "code",
   "execution_count": null,
   "metadata": {},
   "outputs": [],
   "source": [
    "import os\n",
    "\n",
    "class Dataset:\n",
    "    sample_name = 'Doc {}.txt'\n",
    "    def __init__(self, dataset_path):\n",
    "        self.dataset_path = dataset_path\n",
    "        self.samples = os.listdir(dataset_path)\n",
    "    \n",
    "    def __len__(self):\n",
    "        return len(self.samples)\n",
    "    \n",
    "    def __getitem__(self, index):\n",
    "        file_name = self.sample_name.format(index)\n",
    "        file_path = os.path.join(self.dataset_path, file_name)\n",
    "        with open(file_path, 'r') as f:\n",
    "            return f.read()\n",
    "    \n",
    "    def __setitem__(self, index, value):\n",
    "        file_name = self.sample_name.format(index)\n",
    "        file_path = os.path.join(self.dataset_path, file_name)\n",
    "        with open(file_path, 'w') as f:\n",
    "            f.write(value)\n",
    "        \n",
    "        if index < len(self.samples):\n",
    "            # Available file\n",
    "            print('Updating a file')\n",
    "        else:\n",
    "            # New file\n",
    "            print('Creating a new file')\n",
    "            self.samples.append(file_name)\n",
    "            \n",
    "    \n",
    "dataset = Dataset(r'D:\\Training\\Samer Academy\\Online Courses\\[2] python-oop\\Sections\\[3] Special Methods (Dunder Methods) in Python OOP\\dataset')\n",
    "dataset[4] = 'Hi I am doc 4'\n",
    "print(dataset[4])\n",
    "print()\n",
    "\n",
    "\n",
    "\n"
   ]
  },
  {
   "cell_type": "markdown",
   "metadata": {},
   "source": [
    "## Thank You"
   ]
  }
 ],
 "metadata": {
  "kernelspec": {
   "display_name": "Python 3",
   "language": "python",
   "name": "python3"
  },
  "language_info": {
   "codemirror_mode": {
    "name": "ipython",
    "version": 3
   },
   "file_extension": ".py",
   "mimetype": "text/x-python",
   "name": "python",
   "nbconvert_exporter": "python",
   "pygments_lexer": "ipython3",
   "version": "3.7.1"
  }
 },
 "nbformat": 4,
 "nbformat_minor": 4
}
