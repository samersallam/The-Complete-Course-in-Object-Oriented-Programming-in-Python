{
 "cells": [
  {
   "cell_type": "markdown",
   "metadata": {
    "slideshow": {
     "slide_type": "skip"
    }
   },
   "source": [
    "## Callable Objects"
   ]
  },
  {
   "cell_type": "markdown",
   "metadata": {
    "slideshow": {
     "slide_type": "slide"
    }
   },
   "source": [
    "* Let us define the TextSlicing class (Inspired by deep learning libraries)"
   ]
  },
  {
   "cell_type": "code",
   "execution_count": 23,
   "metadata": {},
   "outputs": [
    {
     "name": "stdout",
     "output_type": "stream",
     "text": [
      "['I', 'Live']\n",
      "['USA.', 'I']\n",
      "\n"
     ]
    }
   ],
   "source": [
    "class TextSlicing:\n",
    "    \n",
    "    def __init__(self, word_ind, num_words):\n",
    "        self.word_ind = word_ind\n",
    "        self.num_words = num_words\n",
    "    \n",
    "    def __call__(self, text):\n",
    "        lst_words = text.split()\n",
    "        \n",
    "        return lst_words[self.word_ind: self.word_ind + self.num_words]\n",
    "\n",
    "txt = 'I Live in USA. I love USA'\n",
    "text_slicing =TextSlicing(0, 2)\n",
    "print(text_slicing(txt))\n",
    "text_slicing =TextSlicing(3, 2)\n",
    "print(text_slicing(txt))\n",
    "print()"
   ]
  },
  {
   "cell_type": "code",
   "execution_count": 100,
   "metadata": {
    "slideshow": {
     "slide_type": "skip"
    }
   },
   "outputs": [],
   "source": [
    "# Callable Objects Summary\n",
    "# add onedrive link here "
   ]
  },
  {
   "cell_type": "markdown",
   "metadata": {
    "slideshow": {
     "slide_type": "skip"
    }
   },
   "source": [
    "### Thank You"
   ]
  }
 ],
 "metadata": {
  "kernelspec": {
   "display_name": "Python 3",
   "language": "python",
   "name": "python3"
  },
  "language_info": {
   "codemirror_mode": {
    "name": "ipython",
    "version": 3
   },
   "file_extension": ".py",
   "mimetype": "text/x-python",
   "name": "python",
   "nbconvert_exporter": "python",
   "pygments_lexer": "ipython3",
   "version": "3.7.1"
  }
 },
 "nbformat": 4,
 "nbformat_minor": 4
}
