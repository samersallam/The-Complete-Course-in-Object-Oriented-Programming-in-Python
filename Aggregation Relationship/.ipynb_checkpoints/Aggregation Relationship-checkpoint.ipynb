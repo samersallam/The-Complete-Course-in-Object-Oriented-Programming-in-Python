{
 "cells": [
  {
   "cell_type": "markdown",
   "metadata": {
    "slideshow": {
     "slide_type": "skip"
    }
   },
   "source": [
    "## Aggregation Relationship"
   ]
  },
  {
   "cell_type": "markdown",
   "metadata": {
    "slideshow": {
     "slide_type": "slide"
    }
   },
   "source": [
    "* Let us create the component class"
   ]
  },
  {
   "cell_type": "code",
   "execution_count": 4,
   "metadata": {},
   "outputs": [
    {
     "name": "stdout",
     "output_type": "stream",
     "text": [
      "Name : john Doe\n",
      "Age : 35\n"
     ]
    }
   ],
   "source": [
    "class Teacher:\n",
    "    def __init__(self, first_name, last_name, age):\n",
    "        self.first_name = first_name\n",
    "        self.last_name = last_name\n",
    "        self.age = age\n",
    "    \n",
    "    def get_details(self):\n",
    "        print(f'Name : {self.first_name} {self.last_name}\\nAge : {self.age}')\n",
    "\n",
    "teacher = Teacher('john', 'Doe', 35)\n",
    "teacher.get_details()"
   ]
  },
  {
   "cell_type": "markdown",
   "metadata": {
    "slideshow": {
     "slide_type": "fragment"
    }
   },
   "source": [
    "* Let us create the composite class"
   ]
  },
  {
   "cell_type": "code",
   "execution_count": 6,
   "metadata": {},
   "outputs": [
    {
     "name": "stdout",
     "output_type": "stream",
     "text": [
      "College Name : Colleg 1\n",
      "\n",
      "Teachers list\n",
      "\n",
      "Name : john Doe\n",
      "Age : 35\n",
      "\n"
     ]
    }
   ],
   "source": [
    "class College:\n",
    "    def __init__(self, name, teachers=None):\n",
    "        self.name = name\n",
    "        self.teachers = teachers if teachers is not None else []\n",
    "    \n",
    "    def add_new_teacher(self, new_teacher):\n",
    "        self.teachers.append(new_teacher)\n",
    "    \n",
    "    def get_details(self):\n",
    "        print(f'College Name : {self.name}')\n",
    "        print('\\nTeachers list')\n",
    "        for teacher in self.teachers:\n",
    "            print()\n",
    "            teacher.get_details()\n",
    "            \n",
    "college = College('Colleg 1') \n",
    "college.add_new_teacher(teacher)\n",
    "college.get_details()\n",
    "print()\n",
    "\n",
    "\n",
    "\n",
    "            "
   ]
  },
  {
   "cell_type": "code",
   "execution_count": null,
   "metadata": {
    "slideshow": {
     "slide_type": "skip"
    }
   },
   "outputs": [],
   "source": [
    "# Aggregation Relationship Summary\n",
    "# add onedrive link here"
   ]
  },
  {
   "cell_type": "markdown",
   "metadata": {
    "slideshow": {
     "slide_type": "skip"
    }
   },
   "source": [
    "### Thank You"
   ]
  }
 ],
 "metadata": {
  "kernelspec": {
   "display_name": "Python 3",
   "language": "python",
   "name": "python3"
  },
  "language_info": {
   "codemirror_mode": {
    "name": "ipython",
    "version": 3
   },
   "file_extension": ".py",
   "mimetype": "text/x-python",
   "name": "python",
   "nbconvert_exporter": "python",
   "pygments_lexer": "ipython3",
   "version": "3.7.1"
  }
 },
 "nbformat": 4,
 "nbformat_minor": 4
}
