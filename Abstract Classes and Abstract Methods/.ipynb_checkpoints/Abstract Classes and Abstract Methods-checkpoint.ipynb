{
 "cells": [
  {
   "cell_type": "markdown",
   "metadata": {
    "slideshow": {
     "slide_type": "skip"
    }
   },
   "source": [
    "## Abstract Classes and Abstract Methods"
   ]
  },
  {
   "cell_type": "markdown",
   "metadata": {
    "slideshow": {
     "slide_type": "slide"
    }
   },
   "source": [
    "* How to define an abstract class (interface)"
   ]
  },
  {
   "cell_type": "code",
   "execution_count": 18,
   "metadata": {},
   "outputs": [],
   "source": [
    "from abc import ABCMeta, abstractmethod\n",
    "\n",
    "class SearchInterface(metaclass=ABCMeta):\n",
    "    \n",
    "    @abstractmethod\n",
    "    def search(self):\n",
    "        pass"
   ]
  },
  {
   "cell_type": "markdown",
   "metadata": {
    "slideshow": {
     "slide_type": "fragment"
    }
   },
   "source": [
    "* Try to define an object from the abstract class"
   ]
  },
  {
   "cell_type": "code",
   "execution_count": 20,
   "metadata": {},
   "outputs": [],
   "source": [
    "# search = SearchInterface()"
   ]
  },
  {
   "cell_type": "markdown",
   "metadata": {
    "slideshow": {
     "slide_type": "fragment"
    }
   },
   "source": [
    "* What will happen if we just inherit the abstract class"
   ]
  },
  {
   "cell_type": "code",
   "execution_count": 22,
   "metadata": {},
   "outputs": [],
   "source": [
    "class TextSearch(SearchInterface):\n",
    "    \n",
    "    def search(self, search_query):\n",
    "        print(f'Looking for {search_query} inside the text data')\n",
    "\n",
    "search = TextSearch()"
   ]
  },
  {
   "cell_type": "markdown",
   "metadata": {
    "slideshow": {
     "slide_type": "fragment"
    }
   },
   "source": [
    "* Let us apply the inheritance relationship alongside with implementing the abstract methods"
   ]
  },
  {
   "cell_type": "code",
   "execution_count": 25,
   "metadata": {},
   "outputs": [
    {
     "name": "stdout",
     "output_type": "stream",
     "text": [
      "Looking for Sofa inside the videos data\n",
      "\n"
     ]
    }
   ],
   "source": [
    "class TextSearch(SearchInterface):\n",
    "    \n",
    "    def search(self, search_query):\n",
    "        print(f'Looking for {search_query} inside the text data')\n",
    "\n",
    "class ImageSearch(SearchInterface):\n",
    "    \n",
    "    def search(self, search_query):\n",
    "        print(f'Looking for {search_query} inside the images data')\n",
    "\n",
    "class VideoSearch(SearchInterface):\n",
    "    \n",
    "    def search(self, search_query):\n",
    "        print(f'Looking for {search_query} inside the videos data')\n",
    "\n",
    "\n",
    "sh = VideoSearch()\n",
    "sh.search('Sofa')\n",
    "print()"
   ]
  },
  {
   "cell_type": "markdown",
   "metadata": {},
   "source": [
    "### Thank You"
   ]
  }
 ],
 "metadata": {
  "kernelspec": {
   "display_name": "Python 3",
   "language": "python",
   "name": "python3"
  },
  "language_info": {
   "codemirror_mode": {
    "name": "ipython",
    "version": 3
   },
   "file_extension": ".py",
   "mimetype": "text/x-python",
   "name": "python",
   "nbconvert_exporter": "python",
   "pygments_lexer": "ipython3",
   "version": "3.7.1"
  }
 },
 "nbformat": 4,
 "nbformat_minor": 4
}
