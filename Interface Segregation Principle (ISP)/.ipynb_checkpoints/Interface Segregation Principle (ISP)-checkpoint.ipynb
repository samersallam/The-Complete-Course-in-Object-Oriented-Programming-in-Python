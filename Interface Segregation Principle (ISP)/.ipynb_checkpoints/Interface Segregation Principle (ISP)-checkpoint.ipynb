{
 "cells": [
  {
   "cell_type": "markdown",
   "metadata": {
    "slideshow": {
     "slide_type": "skip"
    }
   },
   "source": [
    "## Interface Segregation Principle (ISP)"
   ]
  },
  {
   "cell_type": "markdown",
   "metadata": {
    "slideshow": {
     "slide_type": "slide"
    }
   },
   "source": [
    "* Let us create the Video classes with violating ISP principle"
   ]
  },
  {
   "cell_type": "code",
   "execution_count": null,
   "metadata": {},
   "outputs": [],
   "source": [
    "# If we do not implement the method 'process_audio' in SilentMovie class we will have \n",
    "# an error because it is an abstract method\n",
    "# If we implement the method 'process_audio' in SilentMovie class we will have an error \n",
    "# inside process method becuase there is no audio for the SilentMovie\n",
    "\n",
    "from abc import ABCMeta, abstractmethod\n",
    "\n",
    "class Video(metaclass=ABCMeta):\n",
    "    def __init__(self, video_path):\n",
    "        self.video_path = video_path\n",
    "    \n",
    "    @abstractmethod\n",
    "    def process_frames(self):\n",
    "        pass\n",
    "    \n",
    "    @abstractmethod\n",
    "    def process_audio(self):\n",
    "        pass\n",
    "\n",
    "    def process(self):\n",
    "        self.process_frames()\n",
    "        self.process_audio()\n",
    "\n",
    "class Movie(Video):\n",
    "    def __init__(self, video_path):\n",
    "        super().__init__(video_path)\n",
    "\n",
    "    def process_frames(self):\n",
    "        print(f'processing {self.video_path} movie frames')\n",
    "\n",
    "    def process_audio(self):\n",
    "        print(f'processing {self.video_path} movie audio')\n",
    "\n",
    "m = Movie('path')\n",
    "# m.process()\n",
    "\n",
    "class SilentMovie(Video):\n",
    "    def __init__(self, video_path):\n",
    "        super().__init__(video_path)\n",
    "\n",
    "    def process_frames(self):\n",
    "        print(f'processing {self.video_path} movie frames')\n",
    "\n",
    "    def process_audio(self):\n",
    "        raise Exception('No audio in this video')\n",
    "\n",
    "m = SilentMovie('path')\n",
    "m.process()"
   ]
  },
  {
   "cell_type": "markdown",
   "metadata": {
    "slideshow": {
     "slide_type": "slide"
    }
   },
   "source": [
    "* Let us fix the problem"
   ]
  },
  {
   "cell_type": "code",
   "execution_count": null,
   "metadata": {},
   "outputs": [],
   "source": [
    "class FrameProcessor(metaclass=ABCMeta):\n",
    "    @abstractmethod\n",
    "    def process_frames(self):\n",
    "        pass\n",
    "\n",
    "    \n",
    "class AudioProcessor(metaclass=ABCMeta):\n",
    "    @abstractmethod\n",
    "    def process_audio(self):\n",
    "        pass\n",
    "\n",
    "class Movie(FrameProcessor, AudioProcessor):\n",
    "    def __init__(self, video_path):\n",
    "        self.video_path = video_path\n",
    "\n",
    "    def process_frames(self):\n",
    "        print(f'processing {self.video_path} movie frames')\n",
    "\n",
    "    def process_audio(self):\n",
    "        print(f'processing {self.video_path} movie audio')\n",
    "\n",
    "    def process(self):\n",
    "        self.process_frames()\n",
    "        self.process_audio()\n",
    "        \n",
    "        \n",
    "class SilentMovie(FrameProcessor):\n",
    "    def __init__(self, video_path):\n",
    "        self.video_path = video_path\n",
    "\n",
    "    def process_frames(self):\n",
    "        print(f'processing {self.video_path} movie frames')\n",
    "\n",
    "    def process(self):\n",
    "        self.process_frames()\n",
    "        "
   ]
  },
  {
   "cell_type": "markdown",
   "metadata": {
    "slideshow": {
     "slide_type": "skip"
    }
   },
   "source": [
    "### Thank You"
   ]
  }
 ],
 "metadata": {
  "kernelspec": {
   "display_name": "Python 3",
   "language": "python",
   "name": "python3"
  },
  "language_info": {
   "codemirror_mode": {
    "name": "ipython",
    "version": 3
   },
   "file_extension": ".py",
   "mimetype": "text/x-python",
   "name": "python",
   "nbconvert_exporter": "python",
   "pygments_lexer": "ipython3",
   "version": "3.7.1"
  }
 },
 "nbformat": 4,
 "nbformat_minor": 4
}
