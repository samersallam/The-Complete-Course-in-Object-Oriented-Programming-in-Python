{
 "cells": [
  {
   "cell_type": "markdown",
   "metadata": {
    "slideshow": {
     "slide_type": "skip"
    }
   },
   "source": [
    "## Operators Special Methods"
   ]
  },
  {
   "cell_type": "markdown",
   "metadata": {
    "slideshow": {
     "slide_type": "slide"
    }
   },
   "source": [
    "* What will happen if we use '+' operator with two objects from a user-defined class"
   ]
  },
  {
   "cell_type": "code",
   "execution_count": null,
   "metadata": {},
   "outputs": [],
   "source": [
    "class Course:\n",
    "    def __init__(self, name, price):\n",
    "        self.name = name\n",
    "        self.price = price\n",
    "    \n",
    "course1 = Course('Math', 10)\n",
    "course2 = Course('Physics', 25)\n",
    "\n",
    "print(course1 + course2)"
   ]
  },
  {
   "cell_type": "markdown",
   "metadata": {
    "slideshow": {
     "slide_type": "fragment"
    }
   },
   "source": [
    "* How to make the operator '+' work for a user-defined class"
   ]
  },
  {
   "cell_type": "code",
   "execution_count": 5,
   "metadata": {},
   "outputs": [
    {
     "name": "stdout",
     "output_type": "stream",
     "text": [
      "The total price is :  35\n",
      "\n"
     ]
    }
   ],
   "source": [
    "class Course:\n",
    "    def __init__(self, name, price):\n",
    "        self.name = name\n",
    "        self.price = price\n",
    "    \n",
    "    def __add__(self, other):\n",
    "        return self.price + other.price\n",
    "    \n",
    "course1 = Course('Math', 10)\n",
    "course2 = Course('Physics', 25)\n",
    "\n",
    "print('The total price is : ', course1 + course2)\n",
    "print()"
   ]
  },
  {
   "cell_type": "markdown",
   "metadata": {
    "slideshow": {
     "slide_type": "slide"
    }
   },
   "source": [
    "* What will happen if we use '==' operator with two objects from a user-defined class"
   ]
  },
  {
   "cell_type": "code",
   "execution_count": null,
   "metadata": {},
   "outputs": [],
   "source": [
    "class Student:\n",
    "    \n",
    "    def __init__(self, name, age, major, cgpa):\n",
    "        self.name = name\n",
    "        self.age = age\n",
    "        self.major = major\n",
    "        self.cgpa = cgpa\n",
    "    \n",
    "student1 = Student('Student 1', 24, 'Computer Science', 90)\n",
    "student2 = Student('Student 2', 25, 'Computer Science', 90)"
   ]
  },
  {
   "cell_type": "markdown",
   "metadata": {
    "slideshow": {
     "slide_type": "fragment"
    }
   },
   "source": [
    "* How to make the operator '==' work for a user-defined class"
   ]
  },
  {
   "cell_type": "code",
   "execution_count": 11,
   "metadata": {},
   "outputs": [
    {
     "name": "stdout",
     "output_type": "stream",
     "text": [
      "False\n",
      "\n"
     ]
    }
   ],
   "source": [
    "class Student:\n",
    "    \n",
    "    def __init__(self, name, age, major, cgpa):\n",
    "        self.name = name\n",
    "        self.age = age\n",
    "        self.major = major\n",
    "        self.cgpa = cgpa\n",
    "    \n",
    "    def __eq__(self, other):\n",
    "        return self.major == other.major and self.cgpa == other.cgpa\n",
    "        \n",
    "    \n",
    "student1 = Student('Student 1', 24, 'Computer Science', 90)\n",
    "student2 = Student('Student 2', 25, 'Computer Science', 91)\n",
    "\n",
    "print(student1 == student2)\n",
    "print()\n",
    "\n"
   ]
  },
  {
   "cell_type": "markdown",
   "metadata": {
    "slideshow": {
     "slide_type": "fragment"
    }
   },
   "source": [
    "* How to make the operator '+=' work for a user-defined class"
   ]
  },
  {
   "cell_type": "code",
   "execution_count": 12,
   "metadata": {},
   "outputs": [
    {
     "data": {
      "text/plain": [
       "13000"
      ]
     },
     "execution_count": 12,
     "metadata": {},
     "output_type": "execute_result"
    }
   ],
   "source": [
    "class BankAccount:\n",
    "    def __init__(self, amount):\n",
    "        self.id = id\n",
    "        self.amount = amount\n",
    "\n",
    "    def __iadd__(self, other):\n",
    "        self.amount += other\n",
    "        return self\n",
    "\n",
    "\n",
    "\n",
    "account1 = BankAccount(10000)\n",
    "# account2 = BankAccount(10000)\n",
    "# account1 += account2\n",
    "# account1.amount\n",
    "account1+=3000\n",
    "account1.amount\n"
   ]
  },
  {
   "cell_type": "markdown",
   "metadata": {},
   "source": [
    "### Thank You"
   ]
  }
 ],
 "metadata": {
  "kernelspec": {
   "display_name": "Python 3",
   "language": "python",
   "name": "python3"
  },
  "language_info": {
   "codemirror_mode": {
    "name": "ipython",
    "version": 3
   },
   "file_extension": ".py",
   "mimetype": "text/x-python",
   "name": "python",
   "nbconvert_exporter": "python",
   "pygments_lexer": "ipython3",
   "version": "3.7.1"
  }
 },
 "nbformat": 4,
 "nbformat_minor": 4
}
