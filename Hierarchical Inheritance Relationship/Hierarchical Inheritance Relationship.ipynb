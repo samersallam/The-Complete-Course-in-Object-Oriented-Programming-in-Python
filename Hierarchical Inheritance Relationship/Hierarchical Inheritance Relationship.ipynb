{
 "cells": [
  {
   "cell_type": "markdown",
   "metadata": {
    "slideshow": {
     "slide_type": "skip"
    }
   },
   "source": [
    "## Hierarchical Inheritance Relationship"
   ]
  },
  {
   "cell_type": "code",
   "execution_count": 74,
   "metadata": {
    "slideshow": {
     "slide_type": "skip"
    }
   },
   "outputs": [],
   "source": [
    "# High level overview\n",
    "class Message:\n",
    "    pass\n",
    "\n",
    "class TextMessage(Message):\n",
    "    pass\n",
    "\n",
    "class VoiceMessage(Message):\n",
    "    pass\n",
    "\n",
    "class ImageMessage(Message):\n",
    "    pass\n",
    "\n",
    "\n",
    "# The actual implementation\n",
    "from datetime import datetime\n",
    "\n",
    "\n",
    "class Message:\n",
    "    message_type = None\n",
    "    \n",
    "    def __init__(self, sender, receiver, date_time):\n",
    "        self.sender = sender\n",
    "        self.receiver = receiver\n",
    "        self.date_time = date_time\n",
    "    \n",
    "    def send(self):\n",
    "        print('A {} message has been sent from {} to {} at {}'.format(self.message_type, self.sender, self.receiver, self.date_time))\n",
    "\n",
    "class TextMessage(Message):\n",
    "    message_type = 'Text'\n",
    "    def __init__(self, sender, receiver, date_time, text):\n",
    "        super().__init__(sender, receiver, date_time)\n",
    "        self.text = text\n",
    "\n",
    "class VoiceMessage(Message):\n",
    "    message_type = 'Voice'\n",
    "    def __init__(self, sender, receiver, date_time, voice_file):\n",
    "        super().__init__(sender, receiver, date_time)\n",
    "        self.voice_file = voice_file\n",
    "\n",
    "class ImageMessage(Message):\n",
    "    message_type = 'Image'\n",
    "    def __init__(self, sender, receiver, date_time, image_file):\n",
    "        super().__init__(sender, receiver, date_time)\n",
    "        self.image_file = image_file\n",
    "        \n",
    "# text_message = TextMessage('Jack', 'James', datetime(2021, 5, 2, 15, 0, 10), 'Hello')\n",
    "# text_message.send()\n",
    "\n",
    "# voice_message = VoiceMessage('Jack', 'James', datetime(2021, 6, 2, 12, 0, 10), 'Voice Message')\n",
    "# voice_message.send()"
   ]
  },
  {
   "cell_type": "markdown",
   "metadata": {
    "slideshow": {
     "slide_type": "slide"
    }
   },
   "source": [
    "* High level overview to what we are going to implement"
   ]
  },
  {
   "cell_type": "code",
   "execution_count": null,
   "metadata": {},
   "outputs": [],
   "source": [
    "class Message:\n",
    "    pass\n",
    "\n",
    "class TextMessage(Message):\n",
    "    pass\n",
    "\n",
    "class VoiceMessage(Message):\n",
    "    pass\n",
    "\n",
    "class ImageMessage(Message):\n",
    "    pass"
   ]
  },
  {
   "cell_type": "markdown",
   "metadata": {
    "slideshow": {
     "slide_type": "slide"
    }
   },
   "source": [
    "* Let us build the class Message"
   ]
  },
  {
   "cell_type": "code",
   "execution_count": 3,
   "metadata": {},
   "outputs": [],
   "source": [
    "class Message:\n",
    "    message_type = None\n",
    "    \n",
    "    def __init__(self, sender, receiver, date_time):\n",
    "        self.sender = sender\n",
    "        self.receiver = receiver\n",
    "        self.date_time = date_time\n",
    "    \n",
    "    def send(self):\n",
    "        print('A {} message has been sent from {} to {} at {}'.format(self.message_type, self.sender, self.receiver, self.date_time))\n"
   ]
  },
  {
   "cell_type": "markdown",
   "metadata": {
    "slideshow": {
     "slide_type": "slide"
    }
   },
   "source": [
    "* Let us build the class TextMessage"
   ]
  },
  {
   "cell_type": "code",
   "execution_count": 4,
   "metadata": {},
   "outputs": [
    {
     "name": "stdout",
     "output_type": "stream",
     "text": [
      "A Text message has been sent from Sam to Matt at 26/04/2021\n"
     ]
    }
   ],
   "source": [
    "class TextMessage(Message):\n",
    "    message_type = 'Text'\n",
    "    \n",
    "    def __init__(self, sender, receiver, date_time, text):\n",
    "        super().__init__(sender, receiver, date_time)\n",
    "        self.text = text\n",
    "\n",
    "text_message = TextMessage('Sam', 'Matt', '26/04/2021', 'Hello')\n",
    "text_message.send()"
   ]
  },
  {
   "cell_type": "markdown",
   "metadata": {
    "slideshow": {
     "slide_type": "slide"
    }
   },
   "source": [
    "* Let us build the class VoiceMessage"
   ]
  },
  {
   "cell_type": "code",
   "execution_count": 5,
   "metadata": {},
   "outputs": [
    {
     "name": "stdout",
     "output_type": "stream",
     "text": [
      "A Voice message has been sent from Sam to Matt at 26/04/2021\n"
     ]
    }
   ],
   "source": [
    "class VoiceMessage(Message):\n",
    "    message_type = 'Voice'\n",
    "    \n",
    "    def __init__(self, sender, receiver, date_time, voice):\n",
    "        super().__init__(sender, receiver, date_time)\n",
    "        self.voice = voice\n",
    "\n",
    "voice_message = VoiceMessage('Sam', 'Matt', '26/04/2021', 'voice audio')\n",
    "voice_message.send()"
   ]
  },
  {
   "cell_type": "markdown",
   "metadata": {
    "slideshow": {
     "slide_type": "slide"
    }
   },
   "source": [
    "* Let us build the class ImageMessage"
   ]
  },
  {
   "cell_type": "code",
   "execution_count": 7,
   "metadata": {},
   "outputs": [
    {
     "name": "stdout",
     "output_type": "stream",
     "text": [
      "A Image message has been sent from Sam to Matt at 26/04/2021\n"
     ]
    }
   ],
   "source": [
    "class ImageMessage(Message):\n",
    "    message_type = 'Image'\n",
    "    \n",
    "    def __init__(self, sender, receiver, date_time, image):\n",
    "        super().__init__(sender, receiver, date_time)\n",
    "        self.image = image\n",
    "\n",
    "image_message = ImageMessage('Sam', 'Matt', '26/04/2021', 'Image file')\n",
    "image_message.send()"
   ]
  },
  {
   "cell_type": "markdown",
   "metadata": {},
   "source": [
    "### Thank You"
   ]
  }
 ],
 "metadata": {
  "kernelspec": {
   "display_name": "Python 3",
   "language": "python",
   "name": "python3"
  },
  "language_info": {
   "codemirror_mode": {
    "name": "ipython",
    "version": 3
   },
   "file_extension": ".py",
   "mimetype": "text/x-python",
   "name": "python",
   "nbconvert_exporter": "python",
   "pygments_lexer": "ipython3",
   "version": "3.7.1"
  }
 },
 "nbformat": 4,
 "nbformat_minor": 4
}
