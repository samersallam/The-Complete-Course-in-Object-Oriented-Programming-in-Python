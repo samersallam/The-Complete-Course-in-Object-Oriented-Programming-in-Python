{
 "cells": [
  {
   "cell_type": "markdown",
   "metadata": {
    "slideshow": {
     "slide_type": "skip"
    }
   },
   "source": [
    "## Name Mangling"
   ]
  },
  {
   "cell_type": "markdown",
   "metadata": {
    "slideshow": {
     "slide_type": "slide"
    }
   },
   "source": [
    "* Let us see the back door to reach to the private attributes / methods"
   ]
  },
  {
   "cell_type": "code",
   "execution_count": 15,
   "metadata": {},
   "outputs": [
    {
     "name": "stdout",
     "output_type": "stream",
     "text": [
      "5000\n",
      "5250\n",
      "\n"
     ]
    }
   ],
   "source": [
    "class Employee:\n",
    "    raise_ = 1.05\n",
    "\n",
    "    def __init__(self, first_name, last_name, salary):\n",
    "        self.first_name = first_name\n",
    "        self.last_name = last_name\n",
    "        self.salary = salary\n",
    "    \n",
    "    def __apply_raise(self):\n",
    "        self.salary = int(self.salary * self.raise_)\n",
    "\n",
    "emp = Employee('john', 'Doe', 5000)\n",
    "print(emp.salary)\n",
    "emp._Employee__apply_raise()\n",
    "print(emp.salary)\n",
    "print()"
   ]
  },
  {
   "cell_type": "markdown",
   "metadata": {
    "slideshow": {
     "slide_type": "slide"
    }
   },
   "source": [
    "* Let us use the mangled name in order to access to the father class methods after overriding"
   ]
  },
  {
   "cell_type": "code",
   "execution_count": 17,
   "metadata": {},
   "outputs": [
    {
     "name": "stdout",
     "output_type": "stream",
     "text": [
      "5000\n",
      "5250\n",
      "\n"
     ]
    }
   ],
   "source": [
    "class Employee:\n",
    "    raise_ = 1.05\n",
    "\n",
    "    def __init__(self, first_name, last_name, salary):\n",
    "        self.first_name = first_name\n",
    "        self.last_name = last_name\n",
    "        self.salary = salary\n",
    "    \n",
    "    def apply_raise(self):\n",
    "        self.salary = int(self.salary * self.raise_)\n",
    "    \n",
    "    __apply_raise = apply_raise\n",
    "    \n",
    "        \n",
    "class Developer(Employee):\n",
    "    def __init__(self, first_name, last_name, salary, programming_languages):\n",
    "        super().__init__(first_name, last_name, salary)\n",
    "        self.programming_languages = programming_languages\n",
    "        \n",
    "    def apply_raise(self):\n",
    "        self.salary = int(self.salary * self.raise_) + 1000\n",
    "        \n",
    "dev = Developer('John', 'Doe', 5000, ['Python'])\n",
    "print(dev.salary)\n",
    "dev._Employee__apply_raise()\n",
    "print(dev.salary)\n",
    "print()"
   ]
  },
  {
   "cell_type": "markdown",
   "metadata": {},
   "source": [
    "### Thank You"
   ]
  }
 ],
 "metadata": {
  "kernelspec": {
   "display_name": "Python 3",
   "language": "python",
   "name": "python3"
  },
  "language_info": {
   "codemirror_mode": {
    "name": "ipython",
    "version": 3
   },
   "file_extension": ".py",
   "mimetype": "text/x-python",
   "name": "python",
   "nbconvert_exporter": "python",
   "pygments_lexer": "ipython3",
   "version": "3.7.1"
  }
 },
 "nbformat": 4,
 "nbformat_minor": 4
}
